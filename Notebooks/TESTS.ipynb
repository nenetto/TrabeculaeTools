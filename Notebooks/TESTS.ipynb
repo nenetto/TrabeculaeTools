{
 "cells": [
  {
   "cell_type": "code",
   "execution_count": 1,
   "metadata": {
    "collapsed": true
   },
   "outputs": [],
   "source": [
    "%load_ext autoreload\n",
    "%autoreload 2\n",
    "%matplotlib inline"
   ]
  },
  {
   "cell_type": "markdown",
   "metadata": {},
   "source": [
    "J:\\\\Projects\\\\JHUTrabeculae\\\\Results\\\\TestSofware\\\\CenterOfSegmentationProblem"
   ]
  },
  {
   "cell_type": "code",
   "execution_count": 3,
   "metadata": {
    "collapsed": true
   },
   "outputs": [],
   "source": [
    "import os\n",
    "# Python packages\n",
    "PythonTools_DIR = 'J:\\\\Projects\\\\JHUTrabeculae\\\\Software\\\\Python\\\\PythonTools'\n",
    "pyimagej_DIR = 'J:\\\\Projects\\\\JHUTrabeculae\\\\Software\\\\Python\\\\pyimagej'\n",
    "TrabeculaeTools_DIR = 'J:\\\\Projects\\\\JHUTrabeculae\\\\Software\\\\Python\\\\TrabeculaeTools'\n",
    "elastix_DIR = 'J:\\\\Projects\\\\JHUTrabeculae\\\\Software\\\\Programs\\\\elastix'\n",
    "ImageJ_DIR = 'J:\\\\Projects\\\\JHUTrabeculae\\\\Software\\\\Programs\\\\Fiji.app'\n",
    "Macros_DIR = 'J:\\\\Projects\\\\JHUTrabeculae\\\\Software\\\\Python\\\\TrabeculaeTools\\\\BoneJMacros'\n",
    "\n",
    "# Elastix registration\n",
    "elastix_EXE = os.path.join(elastix_DIR,'elastix.exe')\n",
    "\n",
    "# Path to imageJ (Need BoneJ and NII reader plugins)\n",
    "ImageJ_EXE = os.path.join(ImageJ_DIR,'ImageJ-win64.exe')\n",
    "\n",
    "# Macro definition for segmentation Trabeculae\n",
    "SegmentfileDescription_XML = os.path.join(Macros_DIR,'SegmentTrabeculaImageJMacro.xml')\n",
    "Segmentmacro_IJM = os.path.join(Macros_DIR,'SegmentTrabeculaImageJMacro.ijm')\n",
    "\n",
    "# Macro definition for Metric Trabeculae\n",
    "MetricfileDescription_XML= os.path.join(Macros_DIR,'BoneJMetricsImageJMacro.xml')\n",
    "Metricmacro_IJM = os.path.join(Macros_DIR,'BoneJMetricsImageJMacro.ijm')"
   ]
  },
  {
   "cell_type": "code",
   "execution_count": 5,
   "metadata": {
    "collapsed": false
   },
   "outputs": [],
   "source": [
    "import sys\n",
    "import pandas as pd\n",
    "import numpy as np\n",
    "import seaborn as sns\n",
    "import matplotlib.pylab as plt\n",
    "from mpl_toolkits.mplot3d import Axes3D\n",
    "import SimpleITK as sitk\n",
    "from scipy.spatial.distance import dice, jaccard, matching, rogerstanimoto, russellrao, sokalmichener, sokalsneath, yule\n",
    "\n",
    "# Add Python Tools to path\n",
    "sys.path.append(PythonTools_DIR)\n",
    "\n",
    "# Add pyimagej\n",
    "sys.path.append(pyimagej_DIR)\n",
    "\n",
    "# Add TrabeculaeTools\n",
    "sys.path.append(TrabeculaeTools_DIR)"
   ]
  },
  {
   "cell_type": "code",
   "execution_count": 7,
   "metadata": {
    "collapsed": true
   },
   "outputs": [],
   "source": [
    "# PythonTools imports\n",
    "from PythonTools.helpers.elastix import elastix as elastixhelper\n",
    "from PythonTools import io, transformations\n",
    "\n",
    "# pyimagej imports\n",
    "from pyimagej.pyimagej import ImageJ, MacroImageJ\n",
    "\n",
    "# TrabeculaeTools imports\n",
    "from TrabeculaeTools.analysis import DownsampleImage, CreateRoIfileStudy, CreateRoI, CreateRoITransformed, PrintPercentage, ResampleImage\n",
    "from TrabeculaeTools.analysis import SegmentTrabeculaeBoneJ, GetResultsFromSegmentation, GetResultsForComparison, LocalThresholding, SegmentTrabeculaeLocalThresholding"
   ]
  },
  {
   "cell_type": "code",
   "execution_count": 9,
   "metadata": {
    "collapsed": true
   },
   "outputs": [],
   "source": [
    "CBCTimagePath = 'J:/Projects/JHUTrabeculae/Results/TestSofware/CenterOfSegmentationProblem/CBCT_roi.nii' \n",
    "uCTimagePath = 'J:/Projects/JHUTrabeculae/Results/TestSofware/CenterOfSegmentationProblem/uCT_roi.nii' \n",
    "uCTimagePath_segmentation = 'J:/Projects/JHUTrabeculae/Results/TestSofware/CenterOfSegmentationProblem/uCT_roi_segmentedBoneJ.nii' \n",
    "\n",
    "uCTResampledimagePath = 'J:/Projects/JHUTrabeculae/Results/TestSofware/CenterOfSegmentationProblem/uCT_roi_resampled.nii' \n",
    "uCTResampledimagePath_segmentation = 'J:/Projects/JHUTrabeculae/Results/TestSofware/CenterOfSegmentationProblem/uCT_roi_resampled_segmentedBoneJ.nii'\n",
    "\n",
    "dataFile = 'J:/Projects/JHUTrabeculae/Results/TestSofware/CenterOfSegmentationProblem/ResultsAllMetrics.csv'"
   ]
  },
  {
   "cell_type": "code",
   "execution_count": 10,
   "metadata": {
    "collapsed": true
   },
   "outputs": [],
   "source": [
    "## Create uCT image with CBCT voxel size\n",
    "uCTimageCBCTVoxelSize = ResampleImage(CBCTimagePath,uCTimagePath)\n",
    "sitk.WriteImage(uCTimageCBCTVoxelSize,uCTResampledimagePath)"
   ]
  },
  {
   "cell_type": "code",
   "execution_count": 12,
   "metadata": {
    "collapsed": true
   },
   "outputs": [],
   "source": [
    "uCTdataSegmentation = SegmentTrabeculaeBoneJ(   ImageJ_EXE, Segmentmacro_IJM, SegmentfileDescription_XML, \n",
    "                                                    defaultTimeout = 700,\\\n",
    "                                                    PathToRoIfile = uCTimagePath,\\\n",
    "                                                    PathToSegmentedRoIfile = uCTimagePath_segmentation,\\\n",
    "                                                    SMOOTH_Sigma = 0.03,\\\n",
    "                                                    TH_Erosion = 0,\\\n",
    "                                                    TH_Dilation = 0)"
   ]
  },
  {
   "cell_type": "code",
   "execution_count": 15,
   "metadata": {
    "collapsed": false
   },
   "outputs": [
    {
     "name": "stdout",
     "output_type": "stream",
     "text": [
      "(7.800000190734863, 8.25, 3.5250000953674316) (0.0, 0.0, 0.0)\n",
      "(7.800000190734863, 8.25, 3.5250000953674316) (7.800000190734863, 8.25, 3.5250000953674316)\n"
     ]
    }
   ],
   "source": [
    "original = sitk.Cast(sitk.ReadImage(uCTimagePath), sitk.sitkFloat32)\n",
    "segmented = sitk.Cast(sitk.ReadImage(uCTimagePath_segmentation), sitk.sitkFloat32)\n",
    "\n",
    "\n",
    "print original.GetOrigin(), segmented.GetOrigin()\n",
    "segmented.SetOrigin(original.GetOrigin())\n",
    "print original.GetOrigin(), segmented.GetOrigin()"
   ]
  }
 ],
 "metadata": {
  "kernelspec": {
   "display_name": "Python 2",
   "language": "python",
   "name": "python2"
  },
  "language_info": {
   "codemirror_mode": {
    "name": "ipython",
    "version": 2
   },
   "file_extension": ".py",
   "mimetype": "text/x-python",
   "name": "python",
   "nbconvert_exporter": "python",
   "pygments_lexer": "ipython2",
   "version": "2.7.11"
  }
 },
 "nbformat": 4,
 "nbformat_minor": 0
}
