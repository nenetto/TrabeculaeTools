{
 "cells": [
  {
   "cell_type": "code",
   "execution_count": 1,
   "metadata": {
    "collapsed": false
   },
   "outputs": [],
   "source": [
    "%load_ext autoreload\n",
    "%autoreload 2"
   ]
  },
  {
   "cell_type": "code",
   "execution_count": 26,
   "metadata": {
    "collapsed": false
   },
   "outputs": [],
   "source": [
    "import sys\n",
    "# Add ctk-cli\n",
    "ctkcli_DIR = u'J:\\Projects\\BoneMorpho\\Development\\TrabeculaeSoftware\\ctk-cli'\n",
    "sys.path.append(ctkcli_DIR)\n",
    "# Add TrabeculaeTools\n",
    "TrabeculaeTools_DIR = u'J:\\Projects\\BoneMorpho\\Development\\TrabeculaeSoftware\\TrabeculaeTools'\n",
    "sys.path.append(TrabeculaeTools_DIR)\n",
    "\n",
    "from ImageJTools import macroImageJ\n",
    "from ImageJTools.HelperBoneJ import joinBoneJResults"
   ]
  },
  {
   "cell_type": "markdown",
   "metadata": {},
   "source": [
    "## Test for different BoneJ Macros and XML definitions"
   ]
  },
  {
   "cell_type": "code",
   "execution_count": 3,
   "metadata": {
    "collapsed": true
   },
   "outputs": [],
   "source": [
    "imagej_exe_path = u'C:\\c_users\\marinetto\\Projects\\BoneMorpho\\Software_doc\\Fiji.app\\ImageJ-win64.exe'"
   ]
  },
  {
   "cell_type": "markdown",
   "metadata": {},
   "source": [
    "### SegmentTrabeculaImageJMacro"
   ]
  },
  {
   "cell_type": "code",
   "execution_count": 4,
   "metadata": {
    "collapsed": false
   },
   "outputs": [
    {
     "name": "stdout",
     "output_type": "stream",
     "text": [
      "Macro         :[ Segment Trabecula ]\n",
      "Description   : This Macro uses the BoneJ Auto Thresholding for segment the trabecula in a RoI image\n",
      "Category      : ImageJ.BoneJ\n",
      "Author        : E. Marinetto\n",
      "Parameters    :\n",
      "    - inputImage  [ None ] (required) Image to be thresholded\n",
      "    - outputImage  [ None ] (required) Trabecula segmentation\n",
      "    - SMOOTH_Sigma  [ 2.5 ] Sigma for Gaussian Filtering\n",
      "    - TH_Tests  [ 11 ] Number of test to perform\n",
      "    - TH_Range  [ 0.2 ] Range of Thresholds for testing\n",
      "    - TH_Subvolume  [ 256 ] Threshold subvolume\n",
      "    - TH_Erosion  [ 1 ] Number of Erosions\n",
      "    - TH_Dilation  [ 2 ] Number of Dilations\n"
     ]
    }
   ],
   "source": [
    "fileXMLdescription = u'J:\\Projects\\BoneMorpho\\Development\\TrabeculaeSoftware\\TrabeculaeTools\\ImageJMacros\\SegmentTrabeculaImageJMacro.xml'\n",
    "macroPath = u'J:\\Projects\\BoneMorpho\\Development\\TrabeculaeSoftware\\TrabeculaeTools\\ImageJMacros\\SegmentTrabeculaImageJMacro.ijm'\n",
    "\n",
    "# Macro definition\n",
    "segmentTrabecula = macroImageJ(imagejPath = imagej_exe_path, macroPath = macroPath, xmlDefinition = fileXMLdescription)\n",
    "segmentTrabecula.printArgsInfo()"
   ]
  },
  {
   "cell_type": "code",
   "execution_count": 22,
   "metadata": {
    "collapsed": false
   },
   "outputs": [
    {
     "name": "stdout",
     "output_type": "stream",
     "text": [
      "#########################################################\n",
      "                Segment Trabecula\n",
      "#########################################################\n",
      "    - TH_Dilation :  2\n",
      "    - TH_Tests :  11\n",
      "    - TH_Subvolume :  256\n",
      "    - inputImage :  J:\\Projects\\BoneMorpho\\Development\\TrabeculaeSoftware\\TrabeculaeTools\\ExampleFiles\\RoIforTesting.tif  (required)\n",
      "    - TH_Erosion :  1\n",
      "    - SMOOTH_Sigma :  1.5\n",
      "    - TH_Range :  0.2\n",
      "    - outputImage :  J:\\Projects\\BoneMorpho\\Development\\TrabeculaeSoftware\\TrabeculaeTools\\ExampleFiles\\RoIforTesting_trabeculae.tif  (required)\n",
      "#########################################################\n",
      "    - Launching: C:\\c_users\\marinetto\\Projects\\BoneMorpho\\Software_doc\\Fiji.app\\ImageJ-win64.exe --no-splash -macro  \"J:\\Projects\\BoneMorpho\\Development\\TrabeculaeSoftware\\TrabeculaeTools\\ImageJMacros\\SegmentTrabeculaImageJMacro.ijm\" \"-TH_Dilation 2 -TH_Tests 11 -TH_Subvolume 256 -inputImage J:\\Projects\\BoneMorpho\\Development\\TrabeculaeSoftware\\TrabeculaeTools\\ExampleFiles\\RoIforTesting.tif -TH_Erosion 1 -SMOOTH_Sigma 1.5 -TH_Range 0.2 -outputImage J:\\Projects\\BoneMorpho\\Development\\TrabeculaeSoftware\\TrabeculaeTools\\ExampleFiles\\RoIforTesting_trabeculae.tif \"\n",
      "    - Segment Trabecula finished [OK]\n"
     ]
    }
   ],
   "source": [
    "# Example image\n",
    "exampleImage = u'J:\\Projects\\BoneMorpho\\Development\\TrabeculaeSoftware\\TrabeculaeTools\\ExampleFiles\\RoIforTesting.tif'\n",
    "exampleImageOut = exampleImage[:-4:] + '_trabeculae.' + exampleImage[-3:]\n",
    "\n",
    "# Macro launch\n",
    "segmentTrabecula.runMacro(SMOOTH_Sigma = 1.5, inputImage = exampleImage, outputImage = exampleImageOut)"
   ]
  },
  {
   "cell_type": "markdown",
   "metadata": {},
   "source": [
    "### BoneJ Extract Metrics"
   ]
  },
  {
   "cell_type": "code",
   "execution_count": 28,
   "metadata": {
    "collapsed": false
   },
   "outputs": [
    {
     "name": "stdout",
     "output_type": "stream",
     "text": [
      "Macro         :[ BoneJ Extract Metrics ]\n",
      "Description   : This Macro uses the BoneJ for extract metrics of a segmented trabeculae image\n",
      "Category      : ImageJ.BoneJ\n",
      "Author        : E. Marinetto\n",
      "Parameters    :\n",
      "    - inputImage  [ None ] (required) Trabecular segmentation RoI\n",
      "    - outputDir  [ None ] (required) Directory where save the results\n",
      "    - VF_SurfaceResampling  [ 6 ] Surface Resampling\n",
      "    - SMI_VoxelResampling  [ 6 ] Structural Model Index Voxel Resampling\n",
      "    - SMI_MeshSmoothing  [ 0.5 ] Structural Model Index Mesh Smoothing\n",
      "    - ANISOTROPY_Radius  [ 64.5 ] Anisotropy Radius for search\n",
      "    - ANISOTROPY_Vectors  [ 50000 ] Anisotropy Number of used Vectors\n",
      "    - ANISOTROPY_VectorSampling  [ 2.3 ] Anisotropy Vector Sampling\n",
      "    - ANISOTROPY_MinSpheres  [ 100 ] Anisotropy Minimum Number of spheres\n",
      "    - ANISOTROPY_MaxSpheres  [ 2000 ] Anisotropy Maximum Number of spheres\n",
      "    - ANISOTROPY_Tol  [ 0.001 ] Anisotropy Tolerance\n",
      "    - ELLIPSOID_SamplingIncrement  [ 0.435 ] Ellipsoid Sampling Increment\n",
      "    - ELLIPSOID_Vectors  [ 100 ] Ellipsoid Number of vectors\n",
      "    - ELLIPSOID_SkeletonPoints  [ 50 ] Ellipsoid Skeleton Points\n",
      "    - ELLIPSOID_Contact  [ 1 ] Ellipsoid Contact\n",
      "    - ELLIPSOID_MaxIt  [ 100 ] Ellipsoid Maximum Number of iterations\n",
      "    - ELLIPSOID_MaxDrift  [ 1.73205 ] Ellipsoid Maximum Drift\n",
      "    - ELLIPSOID_GaussianSigma  [ 2.0 ] Ellipsoid Gaussian Filtering Sigma\n"
     ]
    }
   ],
   "source": [
    "fileXMLdescription = u'J:\\Projects\\BoneMorpho\\Development\\TrabeculaeSoftware\\TrabeculaeTools\\ImageJMacros\\BoneJMetricsImageJMacro.xml'\n",
    "macroPath = u'J:\\Projects\\BoneMorpho\\Development\\TrabeculaeSoftware\\TrabeculaeTools\\ImageJMacros\\BoneJMetricsImageJMacro.ijm'\n",
    "\n",
    "# Macro definition\n",
    "BoneJMetrics = macroImageJ(imagejPath = imagej_exe_path, macroPath = macroPath, xmlDefinition = fileXMLdescription)\n",
    "BoneJMetrics.printArgsInfo()\n",
    "    "
   ]
  },
  {
   "cell_type": "code",
   "execution_count": 43,
   "metadata": {
    "collapsed": false
   },
   "outputs": [
    {
     "name": "stdout",
     "output_type": "stream",
     "text": [
      "#########################################################\n",
      "                BoneJ Extract Metrics\n",
      "#########################################################\n",
      "    - ELLIPSOID_SamplingIncrement :  0.435\n",
      "    - SMI_MeshSmoothing :  0.5\n",
      "    - ANISOTROPY_Vectors :  50000\n",
      "    - ELLIPSOID_MaxIt :  100\n",
      "    - VF_SurfaceResampling :  6\n",
      "    - ELLIPSOID_Vectors :  100\n",
      "    - ANISOTROPY_VectorSampling :  2.3\n",
      "    - inputImage :  J:\\Projects\\BoneMorpho\\Development\\TrabeculaeSoftware\\TrabeculaeTools\\ExampleFiles\\RoIforTesting_trabeculae_small.tif  (required)\n",
      "    - ANISOTROPY_MaxSpheres :  2000\n",
      "    - ELLIPSOID_Contact :  1\n",
      "    - ELLIPSOID_GaussianSigma :  2.0\n",
      "    - ELLIPSOID_MaxDrift :  1.73205\n",
      "    - ELLIPSOID_SkeletonPoints :  50\n",
      "    - SMI_VoxelResampling :  6\n",
      "    - ANISOTROPY_MinSpheres :  100\n",
      "    - outputDir :  J:\\Projects\\BoneMorpho\\Development\\TrabeculaeSoftware\\TrabeculaeTools\\ExampleFiles\\TestResults  (required)\n",
      "    - ANISOTROPY_Tol :  0.001\n",
      "    - ANISOTROPY_Radius :  20\n",
      "#########################################################\n",
      "    - Launching: C:\\c_users\\marinetto\\Projects\\BoneMorpho\\Software_doc\\Fiji.app\\ImageJ-win64.exe --no-splash -macro  \"J:\\Projects\\BoneMorpho\\Development\\TrabeculaeSoftware\\TrabeculaeTools\\ImageJMacros\\BoneJMetricsImageJMacro.ijm\" \"-ELLIPSOID_SamplingIncrement 0.435 -SMI_MeshSmoothing 0.5 -ANISOTROPY_Vectors 50000 -ELLIPSOID_MaxIt 100 -VF_SurfaceResampling 6 -ELLIPSOID_Vectors 100 -ANISOTROPY_VectorSampling 2.3 -inputImage J:\\Projects\\BoneMorpho\\Development\\TrabeculaeSoftware\\TrabeculaeTools\\ExampleFiles\\RoIforTesting_trabeculae_small.tif -ANISOTROPY_MaxSpheres 2000 -ELLIPSOID_Contact 1 -ELLIPSOID_GaussianSigma 2.0 -ELLIPSOID_MaxDrift 1.73205 -ELLIPSOID_SkeletonPoints 50 -SMI_VoxelResampling 6 -ANISOTROPY_MinSpheres 100 -outputDir J:\\Projects\\BoneMorpho\\Development\\TrabeculaeSoftware\\TrabeculaeTools\\ExampleFiles\\TestResults -ANISOTROPY_Tol 0.001 -ANISOTROPY_Radius 20 \"\n",
      "    - BoneJ Extract Metrics finished [OK]\n"
     ]
    }
   ],
   "source": [
    "# Example image\n",
    "exampleImage = u'J:\\Projects\\BoneMorpho\\Development\\TrabeculaeSoftware\\TrabeculaeTools\\ExampleFiles\\RoIforTesting_trabeculae_small.tif'  \n",
    "outputDir = u'J:\\Projects\\BoneMorpho\\Development\\TrabeculaeSoftware\\TrabeculaeTools\\ExampleFiles\\TestResults'\n",
    "\n",
    "# Macro launch\n",
    "params = BoneJMetrics.runMacro( inputImage = exampleImage, outputDir = outputDir, ANISOTROPY_Radius = 20)"
   ]
  },
  {
   "cell_type": "markdown",
   "metadata": {},
   "source": [
    "### Join Files from BoneJMetrics results"
   ]
  },
  {
   "cell_type": "code",
   "execution_count": 69,
   "metadata": {
    "collapsed": false,
    "scrolled": false
   },
   "outputs": [
    {
     "name": "stdout",
     "output_type": "stream",
     "text": [
      "[Info] Checking input result path...\n",
      "    [OK] Path is correct\n",
      "[Info] Looking for data and images folder...\n",
      "    [OK] Found data\n",
      "    [OK] Found images\n",
      "[Info] Checking data files for reading...\n",
      "    [OK] data\\\n",
      "             :-RoIforTesting_trabeculae_small_Anisotropy_Results.csv\n",
      "             :-RoIforTesting_trabeculae_small_Connectivity_Results.csv\n",
      "             :-RoIforTesting_trabeculae_small_EllipsoidFactor_EF_Results.csv\n",
      "             :-RoIforTesting_trabeculae_small_EllipsoidFactor_Max-ID_Results.csv\n",
      "             :-RoIforTesting_trabeculae_small_EllipsoidFactor_Mid_Long_Results.csv\n",
      "             :-RoIforTesting_trabeculae_small_EllipsoidFactor_ShortMid_Results.csv\n",
      "             :-RoIforTesting_trabeculae_small_EllipsoidFactor_Volume_Results.csv\n",
      "             :-RoIforTesting_trabeculae_small_FractalDimension_Results.csv\n",
      "             :-RoIforTesting_trabeculae_small_SMI_Results.csv\n",
      "             :-RoIforTesting_trabeculae_small_Thickness_Results.csv\n",
      "             :-RoIforTesting_trabeculae_small_TrabeculaeSkeleton_BranchInfo.csv\n",
      "             :-RoIforTesting_trabeculae_small_TrabeculaeSkeleton_Results.csv\n",
      "             :-RoIforTesting_trabeculae_small_VolumeFraction_Surface_Results.csv\n",
      "             :-RoIforTesting_trabeculae_small_VolumeFraction_Voxel_Results.csv\n",
      "    [OK] Correct number of data files: 14\n",
      "[Info] Reading files for further Analysis\n",
      "       ---------------------------------------------------------\n",
      "       RoIforTesting_trabeculae_small_Anisotropy_Results.csv\n",
      "       ---------------------------------------------------------\n",
      "       [Info] Reading Anisotropy Results...\n",
      "              -Anisotropy.Degree.of.Anisotropy: 0.41\n",
      "              -Anisotropy.Degree.of.Anisotropy.Alternative: 1.696\n",
      "              -Anisotropy.Fabric.Tensor.Vector.V11: -0.911\n",
      "              -Anisotropy.Fabric.Tensor.Vector.V12: 0.017\n",
      "              -Anisotropy.Fabric.Tensor.Vector.V13: 0.413\n",
      "              -Anisotropy.Fabric.Tensor.Vector.V21: 0.361\n",
      "              -Anisotropy.Fabric.Tensor.Vector.V22: -0.453\n",
      "              -Anisotropy.Fabric.Tensor.Vector.V23: 0.815\n",
      "              -Anisotropy.Fabric.Tensor.Vector.V31: -0.201\n",
      "              -Anisotropy.Fabric.Tensor.Vector.V32: -0.892\n",
      "              -Anisotropy.Fabric.Tensor.Vector.V33: -0.406\n",
      "              -Anisotropy.Fabric.Tensor.Value.D1: 0.013\n",
      "              -Anisotropy.Fabric.Tensor.Value.D2: 0.02\n",
      "              -Anisotropy.Fabric.Tensor.Value.D3: 0.023\n",
      "       ---------------------------------------------------------\n",
      "       RoIforTesting_trabeculae_small_Connectivity_Results.csv\n",
      "       ---------------------------------------------------------\n",
      "       [Info] Reading Connectivity Results...\n",
      "              -Euler.Characteristic: -74.0\n",
      "              -Connectivity.Euler.Characteristic.Delta: -102.75\n",
      "              -Connectivity.Connectivity: 103.75\n",
      "              -Connectivity.Connectivity.Density: 0.000415\n",
      "       ---------------------------------------------------------\n",
      "       RoIforTesting_trabeculae_small_EllipsoidFactor_EF_Results.csv\n",
      "       ---------------------------------------------------------\n",
      "       [Info] Reading EllipsoidFactor EF Results...\n",
      "              -Ellipsoid.Factor.EF.Area: 2500.0\n",
      "              -Ellipsoid.Factor.EF.Mean: -34.326\n",
      "              -Ellipsoid.Factor.EF.StdDev: 16.115\n",
      "              -Ellipsoid.Factor.EF.Mode: -41.885\n",
      "              -Ellipsoid.Factor.EF.Min: -42.0\n",
      "              -Ellipsoid.Factor.EF.Max: 17.0\n",
      "              -Ellipsoid.Factor.EF.Circ: 0.785\n",
      "              -Ellipsoid.Factor.EF.IntDen: -85814.0\n",
      "              -Ellipsoid.Factor.EF.Median: -42.0\n",
      "              -Ellipsoid.Factor.EF.Skew: 1.639\n",
      "              -Ellipsoid.Factor.EF.Kurt: 0.744\n",
      "              -Ellipsoid.Factor.EF.Area.Percentage: 100.0\n",
      "              -Ellipsoid.Factor.EF.RawIntDen: -85814.0\n",
      "              -Ellipsoid.Factor.EF.AR: 1.0\n",
      "              -Ellipsoid.Factor.EF.Round: 1.0\n",
      "              -Ellipsoid.Factor.EF.Solidity: 1.0\n",
      "       ---------------------------------------------------------\n",
      "       RoIforTesting_trabeculae_small_EllipsoidFactor_Max-ID_Results.csv\n",
      "       ---------------------------------------------------------\n",
      "       [Info] Reading EllipsoidFactor Max ID Results...\n",
      "              -Ellipsoid.Factor.Max.ID.Area: 2500.0\n",
      "              -Ellipsoid.Factor.Max.ID.Mean: -34.326\n",
      "              -Ellipsoid.Factor.Max.ID.StdDev: 16.115\n",
      "              -Ellipsoid.Factor.Max.ID.Mode: -41.885\n",
      "              -Ellipsoid.Factor.Max.ID.Min: -42.0\n",
      "              -Ellipsoid.Factor.Max.ID.Max: 17.0\n",
      "              -Ellipsoid.Factor.Max.ID.Circ: 0.785\n",
      "              -Ellipsoid.Factor.Max.ID.IntDen: -85814.0\n",
      "              -Ellipsoid.Factor.Max.ID.Median: -42.0\n",
      "              -Ellipsoid.Factor.Max.ID.Skew: 1.639\n",
      "              -Ellipsoid.Factor.Max.ID.Kurt: 0.744\n",
      "              -Ellipsoid.Factor.Max.ID.Area.Percentage: 100.0\n",
      "              -Ellipsoid.Factor.Max.ID.RawIntDen: -85814.0\n",
      "              -Ellipsoid.Factor.Max.ID.AR: 1.0\n",
      "              -Ellipsoid.Factor.Max.ID.Round: 1.0\n",
      "              -Ellipsoid.Factor.Max.ID.Solidity: 1.0\n",
      "       ---------------------------------------------------------\n",
      "       RoIforTesting_trabeculae_small_EllipsoidFactor_Mid_Long_Results.csv\n",
      "       ---------------------------------------------------------\n",
      "       [Info] Reading EllipsoidFactor Mid Long Results...\n",
      "              -Ellipsoid.Factor.Mid.Long.Area: 9.0\n",
      "              -Ellipsoid.Factor.Mid.Long.Mean: 0.81\n",
      "              -Ellipsoid.Factor.Mid.Long.StdDev: 0.0\n",
      "              -Ellipsoid.Factor.Mid.Long.Mode: 0.81\n",
      "              -Ellipsoid.Factor.Mid.Long.Min: 0.81\n",
      "              -Ellipsoid.Factor.Mid.Long.Max: 0.81\n",
      "              -Ellipsoid.Factor.Mid.Long.Circ: 0.003\n",
      "              -Ellipsoid.Factor.Mid.Long.IntDen: 7.294\n",
      "              -Ellipsoid.Factor.Mid.Long.Median: 0.81\n",
      "              -Ellipsoid.Factor.Mid.Long.Skew: inf\n",
      "              -Ellipsoid.Factor.Mid.Long.Kurt: -inf\n",
      "              -Ellipsoid.Factor.Mid.Long.Area.Percentage: 100.0\n",
      "              -Ellipsoid.Factor.Mid.Long.RawIntDen: 7.294\n",
      "              -Ellipsoid.Factor.Mid.Long.AR: 1.0\n",
      "              -Ellipsoid.Factor.Mid.Long.Round: 0.004\n",
      "              -Ellipsoid.Factor.Mid.Long.Solidity: 1.0\n",
      "       ---------------------------------------------------------\n",
      "       RoIforTesting_trabeculae_small_EllipsoidFactor_ShortMid_Results.csv\n",
      "       ---------------------------------------------------------\n",
      "       [Info] Reading EllipsoidFactor ShortMid Results...\n",
      "              -Ellipsoid.Factor.Mid.Short.Area: 9.0\n",
      "              -Ellipsoid.Factor.Mid.Short.Mean: 1.0\n",
      "              -Ellipsoid.Factor.Mid.Short.StdDev: 0.0\n",
      "              -Ellipsoid.Factor.Mid.Short.Mode: 1.0\n",
      "              -Ellipsoid.Factor.Mid.Short.Min: 1.0\n",
      "              -Ellipsoid.Factor.Mid.Short.Max: 1.0\n",
      "              -Ellipsoid.Factor.Mid.Short.Circ: 0.003\n",
      "              -Ellipsoid.Factor.Mid.Short.IntDen: 9.0\n",
      "              -Ellipsoid.Factor.Mid.Short.Median: 1.0\n",
      "              -Ellipsoid.Factor.Mid.Short.Skew: nan\n",
      "              -Ellipsoid.Factor.Mid.Short.Kurt: nan\n",
      "              -Ellipsoid.Factor.Mid.Short.Area.Percentage: 100.0\n",
      "              -Ellipsoid.Factor.Mid.Short.RawIntDen: 9.0\n",
      "              -Ellipsoid.Factor.Mid.Short.AR: 1.0\n",
      "              -Ellipsoid.Factor.Mid.Short.Round: 0.004\n",
      "              -Ellipsoid.Factor.Mid.Short.Solidity: 1.0\n",
      "       ---------------------------------------------------------\n",
      "       RoIforTesting_trabeculae_small_EllipsoidFactor_Volume_Results.csv\n",
      "       ---------------------------------------------------------\n",
      "       [Info] Reading EllipsoidFactor Volume Results...\n",
      "              -Ellipsoid.Factor.Volume.Area: 9.0\n",
      "              -Ellipsoid.Factor.Volume.Mean: 33.189\n",
      "              -Ellipsoid.Factor.Volume.StdDev: 0.0\n",
      "              -Ellipsoid.Factor.Volume.Mode: 33.189\n",
      "              -Ellipsoid.Factor.Volume.Min: 33.189\n",
      "              -Ellipsoid.Factor.Volume.Max: 33.189\n",
      "              -Ellipsoid.Factor.Volume.Circ: 0.003\n",
      "              -Ellipsoid.Factor.Volume.IntDen: 298.705\n",
      "              -Ellipsoid.Factor.Volume.Median: 33.189\n",
      "              -Ellipsoid.Factor.Volume.Skew: inf\n",
      "              -Ellipsoid.Factor.Volume.Kurt: -inf\n",
      "              -Ellipsoid.Factor.Volume.Area.Percentage: 100.0\n",
      "              -Ellipsoid.Factor.Volume.RawIntDen: 298.705\n",
      "              -Ellipsoid.Factor.Volume.AR: 1.0\n",
      "              -Ellipsoid.Factor.Volume.Round: 0.004\n",
      "              -Ellipsoid.Factor.Volume.Solidity: 1.0\n",
      "       ---------------------------------------------------------\n",
      "       RoIforTesting_trabeculae_small_FractalDimension_Results.csv\n",
      "       ---------------------------------------------------------\n",
      "       [Info] Reading Fractal Dimension Results...\n",
      "              -Fractal.Dimension: 2.686\n",
      "              -Fractal.Dimension.R.square: 0.976\n",
      "       ---------------------------------------------------------\n",
      "       RoIforTesting_trabeculae_small_SMI_Results.csv\n",
      "       ---------------------------------------------------------\n",
      "       [Info] Reading SMI Results...\n",
      "              -SMI.Concave: 0.022\n",
      "              -SMI.Plus: 4.729\n",
      "              -SMI.Minus: -0.013\n",
      "              -SMI: 4.716\n",
      "       ---------------------------------------------------------\n",
      "       RoIforTesting_trabeculae_small_Thickness_Results.csv\n",
      "       ---------------------------------------------------------\n",
      "       [Info] Reading Thickness Results...\n",
      "              -Thickness.Tb.Th.Mean: 5.617\n",
      "              -Thickness.Tb.Th.StdDev: 1.641\n",
      "              -Thickness.Tb.Th.Max: 10.0\n",
      "              -Thickness.Tb.Sp.Mean: 16.829\n",
      "              -Thickness.Tb.Th.StdDev: 4.508\n",
      "              -Thickness.Tb.Th.Max: 27.928\n",
      "       ---------------------------------------------------------\n",
      "       RoIforTesting_trabeculae_small_TrabeculaeSkeleton_BranchInfo.csv\n",
      "       ---------------------------------------------------------\n",
      "       [Info] Reading Trabeculae Skeleton Branch Info Results...\n",
      "              -Trabeculae.Skeleton.Branch.Skeleton.ID: 1.0\n",
      "              -Trabeculae.Skeleton.Branch.Branch.Length: 100.377\n",
      "              -Trabeculae.Skeleton.Branch.Extreme.origin.X: 0.0\n",
      "              -Trabeculae.Skeleton.Branch.Extreme.origin.Y: 14.0\n",
      "              -Trabeculae.Skeleton.Branch.Extreme.origin.Z: 0.0\n",
      "              -Trabeculae.Skeleton.Branch.Extreme.end.X: 46.0\n",
      "              -Trabeculae.Skeleton.Branch.Extreme.end.Y: 48.0\n",
      "              -Trabeculae.Skeleton.Branch.Extreme.end.Z: 56.0\n",
      "              -Trabeculae.Skeleton.Branch.Euclidean.Distance.Turtuosity: 80.05\n",
      "       ---------------------------------------------------------\n",
      "       RoIforTesting_trabeculae_small_TrabeculaeSkeleton_Results.csv\n",
      "       ---------------------------------------------------------\n",
      "       [Info] Reading Trabeculae Skeleton Results...\n",
      "              -Trabeculae.Skeleton.Number.of.Branches: 3.0\n",
      "              -Trabeculae.Skeleton.Number.of.Junctions: 2.0\n",
      "              -Trabeculae.Skeleton.Number.of.EndPoint.Voxels: 0.0\n",
      "              -Trabeculae.Skeleton.Number.of.Junction.Voxels: 53958.0\n",
      "              -Trabeculae.Skeleton.Number.of.Slab.Voxels: 3.0\n",
      "              -Trabeculae.Skeleton.Average.Branch.Length: 4.651\n",
      "              -Trabeculae.Skeleton.Number.of.Triple.Points: 0.0\n",
      "              -Trabeculae.Skeleton.Number.of.Cuadruple.Points: 0.0\n",
      "              -Trabeculae.Skeleton.Maximum.Branch.Length: 11.22\n",
      "       ---------------------------------------------------------\n",
      "       RoIforTesting_trabeculae_small_VolumeFraction_Surface_Results.csv\n",
      "       ---------------------------------------------------------\n",
      "       [Info] Reading Volume Fraction Surface Results...\n",
      "              -Volume.Fraction.Surface.BV: 15731.681\n",
      "              -Volume.Fraction.Surface.TV: 245815.094\n",
      "              -Volume.Fraction.Surface.Volume.Fraction: 0.064\n",
      "       ---------------------------------------------------------\n",
      "       RoIforTesting_trabeculae_small_VolumeFraction_Voxel_Results.csv\n",
      "       ---------------------------------------------------------\n",
      "       [Info] Reading VolumeFraction Voxel Results...\n",
      "              -Volume.Fraction.Voxel.BV: 53964.0\n",
      "              -Volume.Fraction.Voxel.TV: 250000.0\n",
      "              -Volume.Fraction.Voxel.Volume.Fraction: 0.216\n",
      "[Info] Joining files for further Analysis\n",
      "[Info] Number of columns is 159\n",
      "[Info] Number of rows will be 8\n",
      "[Info] Filling Data Matrix of [8,159]\n",
      "[Info] Savind data for Analysis\n"
     ]
    }
   ],
   "source": [
    "resultsJoinedFile = u'J:\\Projects\\BoneMorpho\\Development\\TrabeculaeSoftware\\TrabeculaeTools\\ExampleFiles\\TotalResults.csv'\n",
    "outputDir = u'J:\\Projects\\BoneMorpho\\Development\\TrabeculaeSoftware\\TrabeculaeTools\\ExampleFiles\\TestResults'\n",
    "joinBoneJResults(resultsPath = outputDir, \\\n",
    "                 resultsJoinedFile = resultsJoinedFile, \\\n",
    "                 imageName = 'Image1', \n",
    "                 roiName = 'RoIX', \\\n",
    "                 voxelSizeX = 1.0, \\\n",
    "                 voxelSizeY = 1.0, \\\n",
    "                 voxelSizeZ = 1.0, \\\n",
    "                 roiSizeX = 1.0, \\\n",
    "                 roiSizeY = 1.0, \\\n",
    "                 roiSizeZ = 1.0,\n",
    "                 parameters = params)\n",
    "\n"
   ]
  }
 ],
 "metadata": {
  "kernelspec": {
   "display_name": "Python 2",
   "language": "python",
   "name": "python2"
  },
  "language_info": {
   "codemirror_mode": {
    "name": "ipython",
    "version": 2
   },
   "file_extension": ".py",
   "mimetype": "text/x-python",
   "name": "python",
   "nbconvert_exporter": "python",
   "pygments_lexer": "ipython2",
   "version": "2.7.10"
  }
 },
 "nbformat": 4,
 "nbformat_minor": 0
}
