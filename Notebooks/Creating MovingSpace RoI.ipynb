{
 "cells": [
  {
   "cell_type": "code",
   "execution_count": 1,
   "metadata": {
    "collapsed": true
   },
   "outputs": [],
   "source": [
    "import sys\n",
    "# Add Python Tools\n",
    "pythonToolsDir = r'J:\\Projects\\JHUTrabeculae\\Software\\Python\\PythonTools'\n",
    "sys.path.append(pythonToolsDir)\n",
    "\n",
    "# Add ctk-cli\n",
    "ctkcli_DIR = r'J:\\Projects\\JHUTrabeculae\\Software\\Python\\ctk-cli'\n",
    "sys.path.append(ctkcli_DIR)\n",
    "\n",
    "# Add TrabeculaeTools\n",
    "TrabeculaeTools_DIR = r'J:\\Projects\\JHUTrabeculae\\Software\\Python\\TrabeculaeTools'\n",
    "sys.path.append(TrabeculaeTools_DIR)\n",
    "\n",
    "from ImageJTools import macroImageJ\n",
    "from ImageJTools.HelperBoneJ import joinBoneJResults, extractSquareRoIs, maskImage, randomTransformation, getSimilarityMetrics\n",
    "\n",
    "from PythonTools import registration, transforms, transformations\n",
    "from PythonTools.helpers import vtk as vtkhelper\n",
    "from PythonTools.helpers.elastix import elastix as elastixhelper\n",
    "from PythonTools import io\n",
    "\n",
    "\n",
    "import vtk\n",
    "import matplotlib\n",
    "import numpy as np\n",
    "import matplotlib.pyplot as plt\n",
    "from scipy import ndimage\n",
    "import math\n",
    "import os\n",
    "import time\n",
    "import seaborn as sns\n",
    "\n",
    "\n",
    "import seaborn as sns\n",
    "import pandas as pd\n",
    "\n",
    "import SimpleITK as sitk\n",
    "\n",
    "\n",
    "\n",
    "imagePathTarget=r'' \n",
    "RoIparameters= r''\n",
    "roiImageFilepath= r''\n",
    "imagePathMoving= r''\n",
    "registrationFile= r''"
   ]
  },
  {
   "cell_type": "code",
   "execution_count": 2,
   "metadata": {
    "collapsed": true
   },
   "outputs": [],
   "source": [
    "import numpy as np"
   ]
  },
  {
   "cell_type": "code",
   "execution_count": 17,
   "metadata": {
    "collapsed": false
   },
   "outputs": [
    {
     "name": "stdout",
     "output_type": "stream",
     "text": [
      "[[ 0.21337534  0.46591998  0.57883575]\n",
      " [ 0.58376438  0.43819118  0.39640364]\n",
      " [ 0.60088871  0.11340592  0.47399412]\n",
      " [ 0.31868903  0.78252104  0.76033453]\n",
      " [ 0.99459901  0.12895316  0.92255864]\n",
      " [ 0.21649242  0.28929819  0.76449965]\n",
      " [ 0.75102411  0.26286543  0.61384395]\n",
      " [ 0.16831335  0.0052338   0.38052923]]\n",
      "[[-0.21337534  3.46591998  4.57883575]\n",
      " [-0.58376438  3.43819118  4.39640364]\n",
      " [-0.60088871  3.11340592  4.47399412]\n",
      " [-0.31868903  3.78252104  4.76033453]\n",
      " [-0.99459901  3.12895316  4.92255864]\n",
      " [-0.21649242  3.28929819  4.76449965]\n",
      " [-0.75102411  3.26286543  4.61384395]\n",
      " [-0.16831335  3.0052338   4.38052923]]\n"
     ]
    }
   ],
   "source": [
    "points = np.random.rand(8,3)\n",
    "\n",
    "print points\n",
    "\n",
    "T = np.eye(3)\n",
    "\n",
    "T[0,0]= -1\n",
    "#T[1,3]= 3\n",
    "\n",
    "points2 = np.dot(points, T) + [0,3,4]\n",
    "\n",
    "print points2"
   ]
  }
 ],
 "metadata": {
  "kernelspec": {
   "display_name": "Python 2",
   "language": "python",
   "name": "python2"
  },
  "language_info": {
   "codemirror_mode": {
    "name": "ipython",
    "version": 2
   },
   "file_extension": ".py",
   "mimetype": "text/x-python",
   "name": "python",
   "nbconvert_exporter": "python",
   "pygments_lexer": "ipython2",
   "version": "2.7.10"
  }
 },
 "nbformat": 4,
 "nbformat_minor": 0
}
