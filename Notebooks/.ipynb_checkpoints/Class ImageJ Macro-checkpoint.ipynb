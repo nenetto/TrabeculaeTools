{
 "cells": [
  {
   "cell_type": "code",
   "execution_count": 1,
   "metadata": {
    "collapsed": false
   },
   "outputs": [],
   "source": [
    "%load_ext autoreload\n",
    "%autoreload 2"
   ]
  },
  {
   "cell_type": "code",
   "execution_count": 26,
   "metadata": {
    "collapsed": false
   },
   "outputs": [],
   "source": [
    "import sys\n",
    "# Add ctk-cli\n",
    "ctkcli_DIR = u'J:\\Projects\\BoneMorpho\\Development\\TrabeculaeSoftware\\ctk-cli'\n",
    "sys.path.append(ctkcli_DIR)\n",
    "# Add TrabeculaeTools\n",
    "TrabeculaeTools_DIR = u'J:\\Projects\\BoneMorpho\\Development\\TrabeculaeSoftware\\TrabeculaeTools'\n",
    "sys.path.append(TrabeculaeTools_DIR)\n",
    "\n",
    "from ImageJTools import macroImageJ\n",
    "from ImageJTools.HelperBoneJ import joinBoneJResults"
   ]
  },
  {
   "cell_type": "markdown",
   "metadata": {},
   "source": [
    "## Test for different BoneJ Macros and XML definitions"
   ]
  },
  {
   "cell_type": "code",
   "execution_count": 3,
   "metadata": {
    "collapsed": true
   },
   "outputs": [],
   "source": [
    "imagej_exe_path = u'C:\\c_users\\marinetto\\Projects\\BoneMorpho\\Software_doc\\Fiji.app\\ImageJ-win64.exe'"
   ]
  },
  {
   "cell_type": "markdown",
   "metadata": {},
   "source": [
    "### SegmentTrabeculaImageJMacro"
   ]
  },
  {
   "cell_type": "code",
   "execution_count": 4,
   "metadata": {
    "collapsed": false
   },
   "outputs": [
    {
     "name": "stdout",
     "output_type": "stream",
     "text": [
      "Macro         :[ Segment Trabecula ]\n",
      "Description   : This Macro uses the BoneJ Auto Thresholding for segment the trabecula in a RoI image\n",
      "Category      : ImageJ.BoneJ\n",
      "Author        : E. Marinetto\n",
      "Parameters    :\n",
      "    - inputImage  [ None ] (required) Image to be thresholded\n",
      "    - outputImage  [ None ] (required) Trabecula segmentation\n",
      "    - SMOOTH_Sigma  [ 2.5 ] Sigma for Gaussian Filtering\n",
      "    - TH_Tests  [ 11 ] Number of test to perform\n",
      "    - TH_Range  [ 0.2 ] Range of Thresholds for testing\n",
      "    - TH_Subvolume  [ 256 ] Threshold subvolume\n",
      "    - TH_Erosion  [ 1 ] Number of Erosions\n",
      "    - TH_Dilation  [ 2 ] Number of Dilations\n"
     ]
    }
   ],
   "source": [
    "fileXMLdescription = u'J:\\Projects\\BoneMorpho\\Development\\TrabeculaeSoftware\\TrabeculaeTools\\ImageJMacros\\SegmentTrabeculaImageJMacro.xml'\n",
    "macroPath = u'J:\\Projects\\BoneMorpho\\Development\\TrabeculaeSoftware\\TrabeculaeTools\\ImageJMacros\\SegmentTrabeculaImageJMacro.ijm'\n",
    "\n",
    "# Macro definition\n",
    "segmentTrabecula = macroImageJ(imagejPath = imagej_exe_path, macroPath = macroPath, xmlDefinition = fileXMLdescription)\n",
    "segmentTrabecula.printArgsInfo()"
   ]
  },
  {
   "cell_type": "code",
   "execution_count": 22,
   "metadata": {
    "collapsed": false
   },
   "outputs": [
    {
     "name": "stdout",
     "output_type": "stream",
     "text": [
      "#########################################################\n",
      "                Segment Trabecula\n",
      "#########################################################\n",
      "    - TH_Dilation :  2\n",
      "    - TH_Tests :  11\n",
      "    - TH_Subvolume :  256\n",
      "    - inputImage :  J:\\Projects\\BoneMorpho\\Development\\TrabeculaeSoftware\\TrabeculaeTools\\ExampleFiles\\RoIforTesting.tif  (required)\n",
      "    - TH_Erosion :  1\n",
      "    - SMOOTH_Sigma :  1.5\n",
      "    - TH_Range :  0.2\n",
      "    - outputImage :  J:\\Projects\\BoneMorpho\\Development\\TrabeculaeSoftware\\TrabeculaeTools\\ExampleFiles\\RoIforTesting_trabeculae.tif  (required)\n",
      "#########################################################\n",
      "    - Launching: C:\\c_users\\marinetto\\Projects\\BoneMorpho\\Software_doc\\Fiji.app\\ImageJ-win64.exe --no-splash -macro  \"J:\\Projects\\BoneMorpho\\Development\\TrabeculaeSoftware\\TrabeculaeTools\\ImageJMacros\\SegmentTrabeculaImageJMacro.ijm\" \"-TH_Dilation 2 -TH_Tests 11 -TH_Subvolume 256 -inputImage J:\\Projects\\BoneMorpho\\Development\\TrabeculaeSoftware\\TrabeculaeTools\\ExampleFiles\\RoIforTesting.tif -TH_Erosion 1 -SMOOTH_Sigma 1.5 -TH_Range 0.2 -outputImage J:\\Projects\\BoneMorpho\\Development\\TrabeculaeSoftware\\TrabeculaeTools\\ExampleFiles\\RoIforTesting_trabeculae.tif \"\n",
      "    - Segment Trabecula finished [OK]\n"
     ]
    }
   ],
   "source": [
    "# Example image\n",
    "exampleImage = u'J:\\Projects\\BoneMorpho\\Development\\TrabeculaeSoftware\\TrabeculaeTools\\ExampleFiles\\RoIforTesting.tif'\n",
    "exampleImageOut = exampleImage[:-4:] + '_trabeculae.' + exampleImage[-3:]\n",
    "\n",
    "# Macro launch\n",
    "segmentTrabecula.runMacro(SMOOTH_Sigma = 1.5, inputImage = exampleImage, outputImage = exampleImageOut)"
   ]
  },
  {
   "cell_type": "markdown",
   "metadata": {},
   "source": [
    "### BoneJ Extract Metrics"
   ]
  },
  {
   "cell_type": "code",
   "execution_count": 28,
   "metadata": {
    "collapsed": false
   },
   "outputs": [
    {
     "name": "stdout",
     "output_type": "stream",
     "text": [
      "Macro         :[ BoneJ Extract Metrics ]\n",
      "Description   : This Macro uses the BoneJ for extract metrics of a segmented trabeculae image\n",
      "Category      : ImageJ.BoneJ\n",
      "Author        : E. Marinetto\n",
      "Parameters    :\n",
      "    - inputImage  [ None ] (required) Trabecular segmentation RoI\n",
      "    - outputDir  [ None ] (required) Directory where save the results\n",
      "    - VF_SurfaceResampling  [ 6 ] Surface Resampling\n",
      "    - SMI_VoxelResampling  [ 6 ] Structural Model Index Voxel Resampling\n",
      "    - SMI_MeshSmoothing  [ 0.5 ] Structural Model Index Mesh Smoothing\n",
      "    - ANISOTROPY_Radius  [ 64.5 ] Anisotropy Radius for search\n",
      "    - ANISOTROPY_Vectors  [ 50000 ] Anisotropy Number of used Vectors\n",
      "    - ANISOTROPY_VectorSampling  [ 2.3 ] Anisotropy Vector Sampling\n",
      "    - ANISOTROPY_MinSpheres  [ 100 ] Anisotropy Minimum Number of spheres\n",
      "    - ANISOTROPY_MaxSpheres  [ 2000 ] Anisotropy Maximum Number of spheres\n",
      "    - ANISOTROPY_Tol  [ 0.001 ] Anisotropy Tolerance\n",
      "    - ELLIPSOID_SamplingIncrement  [ 0.435 ] Ellipsoid Sampling Increment\n",
      "    - ELLIPSOID_Vectors  [ 100 ] Ellipsoid Number of vectors\n",
      "    - ELLIPSOID_SkeletonPoints  [ 50 ] Ellipsoid Skeleton Points\n",
      "    - ELLIPSOID_Contact  [ 1 ] Ellipsoid Contact\n",
      "    - ELLIPSOID_MaxIt  [ 100 ] Ellipsoid Maximum Number of iterations\n",
      "    - ELLIPSOID_MaxDrift  [ 1.73205 ] Ellipsoid Maximum Drift\n",
      "    - ELLIPSOID_GaussianSigma  [ 2.0 ] Ellipsoid Gaussian Filtering Sigma\n"
     ]
    }
   ],
   "source": [
    "fileXMLdescription = u'J:\\Projects\\BoneMorpho\\Development\\TrabeculaeSoftware\\TrabeculaeTools\\ImageJMacros\\BoneJMetricsImageJMacro.xml'\n",
    "macroPath = u'J:\\Projects\\BoneMorpho\\Development\\TrabeculaeSoftware\\TrabeculaeTools\\ImageJMacros\\BoneJMetricsImageJMacro.ijm'\n",
    "\n",
    "# Macro definition\n",
    "BoneJMetrics = macroImageJ(imagejPath = imagej_exe_path, macroPath = macroPath, xmlDefinition = fileXMLdescription)\n",
    "BoneJMetrics.printArgsInfo()\n",
    "    "
   ]
  },
  {
   "cell_type": "code",
   "execution_count": 43,
   "metadata": {
    "collapsed": false
   },
   "outputs": [
    {
     "name": "stdout",
     "output_type": "stream",
     "text": [
      "#########################################################\n",
      "                BoneJ Extract Metrics\n",
      "#########################################################\n",
      "    - ELLIPSOID_SamplingIncrement :  0.435\n",
      "    - SMI_MeshSmoothing :  0.5\n",
      "    - ANISOTROPY_Vectors :  50000\n",
      "    - ELLIPSOID_MaxIt :  100\n",
      "    - VF_SurfaceResampling :  6\n",
      "    - ELLIPSOID_Vectors :  100\n",
      "    - ANISOTROPY_VectorSampling :  2.3\n",
      "    - inputImage :  J:\\Projects\\BoneMorpho\\Development\\TrabeculaeSoftware\\TrabeculaeTools\\ExampleFiles\\RoIforTesting_trabeculae_small.tif  (required)\n",
      "    - ANISOTROPY_MaxSpheres :  2000\n",
      "    - ELLIPSOID_Contact :  1\n",
      "    - ELLIPSOID_GaussianSigma :  2.0\n",
      "    - ELLIPSOID_MaxDrift :  1.73205\n",
      "    - ELLIPSOID_SkeletonPoints :  50\n",
      "    - SMI_VoxelResampling :  6\n",
      "    - ANISOTROPY_MinSpheres :  100\n",
      "    - outputDir :  J:\\Projects\\BoneMorpho\\Development\\TrabeculaeSoftware\\TrabeculaeTools\\ExampleFiles\\TestResults  (required)\n",
      "    - ANISOTROPY_Tol :  0.001\n",
      "    - ANISOTROPY_Radius :  20\n",
      "#########################################################\n",
      "    - Launching: C:\\c_users\\marinetto\\Projects\\BoneMorpho\\Software_doc\\Fiji.app\\ImageJ-win64.exe --no-splash -macro  \"J:\\Projects\\BoneMorpho\\Development\\TrabeculaeSoftware\\TrabeculaeTools\\ImageJMacros\\BoneJMetricsImageJMacro.ijm\" \"-ELLIPSOID_SamplingIncrement 0.435 -SMI_MeshSmoothing 0.5 -ANISOTROPY_Vectors 50000 -ELLIPSOID_MaxIt 100 -VF_SurfaceResampling 6 -ELLIPSOID_Vectors 100 -ANISOTROPY_VectorSampling 2.3 -inputImage J:\\Projects\\BoneMorpho\\Development\\TrabeculaeSoftware\\TrabeculaeTools\\ExampleFiles\\RoIforTesting_trabeculae_small.tif -ANISOTROPY_MaxSpheres 2000 -ELLIPSOID_Contact 1 -ELLIPSOID_GaussianSigma 2.0 -ELLIPSOID_MaxDrift 1.73205 -ELLIPSOID_SkeletonPoints 50 -SMI_VoxelResampling 6 -ANISOTROPY_MinSpheres 100 -outputDir J:\\Projects\\BoneMorpho\\Development\\TrabeculaeSoftware\\TrabeculaeTools\\ExampleFiles\\TestResults -ANISOTROPY_Tol 0.001 -ANISOTROPY_Radius 20 \"\n",
      "    - BoneJ Extract Metrics finished [OK]\n"
     ]
    }
   ],
   "source": [
    "# Example image\n",
    "exampleImage = u'J:\\Projects\\BoneMorpho\\Development\\TrabeculaeSoftware\\TrabeculaeTools\\ExampleFiles\\RoIforTesting_trabeculae_small.tif'  \n",
    "outputDir = u'J:\\Projects\\BoneMorpho\\Development\\TrabeculaeSoftware\\TrabeculaeTools\\ExampleFiles\\TestResults'\n",
    "\n",
    "# Macro launch\n",
    "params = BoneJMetrics.runMacro( inputImage = exampleImage, outputDir = outputDir, ANISOTROPY_Radius = 20)"
   ]
  },
  {
   "cell_type": "markdown",
   "metadata": {},
   "source": [
    "### Join Files from BoneJMetrics results"
   ]
  },
  {
   "cell_type": "code",
   "execution_count": 68,
   "metadata": {
    "collapsed": false,
    "scrolled": false
   },
   "outputs": [
    {
     "ename": "TypeError",
     "evalue": "joinBoneJResults() got an unexpected keyword argument 'paraeters'",
     "output_type": "error",
     "traceback": [
      "\u001b[1;31m---------------------------------------------------------------------------\u001b[0m",
      "\u001b[1;31mTypeError\u001b[0m                                 Traceback (most recent call last)",
      "\u001b[1;32m<ipython-input-68-e6669ee1f43d>\u001b[0m in \u001b[0;36m<module>\u001b[1;34m()\u001b[0m\n\u001b[0;32m      9\u001b[0m                  \u001b[0mroiSizeY\u001b[0m \u001b[1;33m=\u001b[0m \u001b[1;36m1.0\u001b[0m\u001b[1;33m,\u001b[0m\u001b[0;31m \u001b[0m\u001b[0;31m\\\u001b[0m\u001b[1;33m\u001b[0m\u001b[0m\n\u001b[0;32m     10\u001b[0m                  \u001b[0mroiSizeZ\u001b[0m \u001b[1;33m=\u001b[0m \u001b[1;36m1.0\u001b[0m\u001b[1;33m,\u001b[0m\u001b[1;33m\u001b[0m\u001b[0m\n\u001b[1;32m---> 11\u001b[1;33m                  paraeters = params)\n\u001b[0m\u001b[0;32m     12\u001b[0m \u001b[1;33m\u001b[0m\u001b[0m\n",
      "\u001b[1;31mTypeError\u001b[0m: joinBoneJResults() got an unexpected keyword argument 'paraeters'"
     ]
    }
   ],
   "source": [
    "resultsJoinedFile = u'J:\\Projects\\BoneMorpho\\Development\\TrabeculaeSoftware\\TrabeculaeTools\\ExampleFiles\\TotalResults.csv'\n",
    "outputDir = u'J:\\Projects\\BoneMorpho\\Development\\TrabeculaeSoftware\\TrabeculaeTools\\ExampleFiles\\TestResults'\n",
    "joinBoneJResults(resultsPath = outputDir, \\\n",
    "                 resultsJoinedFile = resultsJoinedFile, \\\n",
    "                 imageName = 'Image1', \n",
    "                 roiName = 'RoIX', \\\n",
    "                 voxelSizeX = 1.0, \\\n",
    "                 voxelSizeY = 1.0, \\\n",
    "                 voxelSizeZ = 1.0, \\\n",
    "                 roiSizeX = 1.0, \\\n",
    "                 roiSizeY = 1.0, \\\n",
    "                 roiSizeZ = 1.0,\n",
    "                 parameters = params)\n",
    "\n"
   ]
  },
  {
   "cell_type": "code",
   "execution_count": 23,
   "metadata": {
    "collapsed": false,
    "scrolled": false
   },
   "outputs": [],
   "source": [
    "from numpy import genfromtxt\n",
    "\n"
   ]
  },
  {
   "cell_type": "code",
   "execution_count": null,
   "metadata": {
    "collapsed": true
   },
   "outputs": [],
   "source": []
  }
 ],
 "metadata": {
  "kernelspec": {
   "display_name": "Python 2",
   "language": "python",
   "name": "python2"
  },
  "language_info": {
   "codemirror_mode": {
    "name": "ipython",
    "version": 2
   },
   "file_extension": ".py",
   "mimetype": "text/x-python",
   "name": "python",
   "nbconvert_exporter": "python",
   "pygments_lexer": "ipython2",
   "version": "2.7.10"
  }
 },
 "nbformat": 4,
 "nbformat_minor": 0
}
