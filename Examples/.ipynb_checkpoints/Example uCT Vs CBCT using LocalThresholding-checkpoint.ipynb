{
 "cells": [
  {
   "cell_type": "code",
   "execution_count": 44,
   "metadata": {
    "collapsed": false
   },
   "outputs": [
    {
     "name": "stdout",
     "output_type": "stream",
     "text": [
      "The autoreload extension is already loaded. To reload it, use:\n",
      "  %reload_ext autoreload\n"
     ]
    }
   ],
   "source": [
    "%load_ext autoreload\n",
    "%autoreload 2\n",
    "%matplotlib inline"
   ]
  },
  {
   "cell_type": "markdown",
   "metadata": {},
   "source": [
    "## Example of comparative analysis for uCT and CBCT images\n",
    "\n",
    "This file perform the complete analysis for a uCT and a CBCT images. A selected number of random RoIs will be extracted from both images. Trabeculae will be segmented using the BoneJ segmentation algorithm that search for a global threshold over the RoI and maximizes the connectivity. Once RoIs are extracted, metrics using BoneJ will be extracted and saved into a CSV file for further analysis and comparison.\n",
    "\n",
    "### Preregistration\n",
    "\n",
    "If the images are not registered before analysis, they will be registered using elastix registration package. Due to the big size of the uCT image, a subsampled version of the uCT will be registered instead the original one because memory limitations in the computer.\n",
    "\n",
    "#### Initial Registration\n",
    "\n",
    "Currently, in order to speed up the registration performance and ensure a correct solution, a preregistration is performed using 3DSlicer following the next steps: \n",
    "\n",
    "1. Load uCT subsampled image \n",
    "2. Load CBCT image\n",
    "3. Create a transformation and apply to uCT (registration transforms uCT to the CBCT geometrical space)\n",
    "4. Play to align both images as much as you can\n",
    "5. Save the registration parameters as a *.tfm file into the corresponding folder\n",
    "\n",
    "### Image format\n",
    "\n",
    "All images will be saved and read as nifti format. For transforming your images you will find functions for MATLAB in the corresponding folder. Also, if you are using ImageJ, a plugin that deal with nifti is also available in the corresponding folder\n",
    "\n",
    "### \n"
   ]
  },
  {
   "cell_type": "markdown",
   "metadata": {},
   "source": [
    "### <font color='red'>Variables that need to be changed </font>\n",
    "\n",
    "- <font color='red'>Make sure that the BoneJ and NiftiIO plugins has been installed into imagej used version"
   ]
  },
  {
   "cell_type": "code",
   "execution_count": 45,
   "metadata": {
    "collapsed": false
   },
   "outputs": [],
   "source": [
    "import os\n",
    "# Python packages\n",
    "PythonTools_DIR = 'J:\\\\Projects\\\\JHUTrabeculae\\\\Software\\\\Python\\\\PythonTools'\n",
    "pyimagej_DIR = 'J:\\\\Projects\\\\JHUTrabeculae\\\\Software\\\\Python\\\\pyimagej'\n",
    "TrabeculaeTools_DIR = 'J:\\\\Projects\\\\JHUTrabeculae\\\\Software\\\\Python\\\\TrabeculaeTools'\n",
    "elastix_DIR = 'J:\\\\Projects\\\\JHUTrabeculae\\\\Software\\\\Programs\\\\elastix'\n",
    "ImageJ_DIR = 'J:\\\\Projects\\\\JHUTrabeculae\\\\Software\\\\Programs\\\\Fiji.app'\n",
    "Macros_DIR = 'J:\\\\Projects\\\\JHUTrabeculae\\\\Software\\\\Python\\\\TrabeculaeTools\\\\BoneJMacros'\n",
    "\n",
    "# Elastix registration\n",
    "elastix_EXE = os.path.join(elastix_DIR,'elastix.exe')\n",
    "\n",
    "# Path to imageJ (Need BoneJ and NII reader plugins)\n",
    "ImageJ_EXE = os.path.join(ImageJ_DIR,'ImageJ-win64.exe')\n",
    "\n",
    "# Macro definition for segmentation Trabeculae\n",
    "SegmentfileDescription_XML = os.path.join(Macros_DIR,'SegmentTrabeculaImageJMacro.xml')\n",
    "Segmentmacro_IJM = os.path.join(Macros_DIR,'SegmentTrabeculaImageJMacro.ijm')\n",
    "\n",
    "# Macro definition for Metric Trabeculae\n",
    "MetricfileDescription_XML= os.path.join(Macros_DIR,'BoneJMetricsImageJMacro.xml')\n",
    "Metricmacro_IJM = os.path.join(Macros_DIR,'BoneJMetricsImageJMacro.ijm')"
   ]
  },
  {
   "cell_type": "markdown",
   "metadata": {},
   "source": [
    "## Import need packages"
   ]
  },
  {
   "cell_type": "code",
   "execution_count": 46,
   "metadata": {
    "collapsed": false
   },
   "outputs": [],
   "source": [
    "import sys\n",
    "import pandas as pd\n",
    "import numpy as np\n",
    "import seaborn as sns\n",
    "import matplotlib.pylab as plt\n",
    "from mpl_toolkits.mplot3d import Axes3D\n",
    "import SimpleITK as sitk\n",
    "\n",
    "# Add Python Tools to path\n",
    "sys.path.append(PythonTools_DIR)\n",
    "\n",
    "# Add pyimagej\n",
    "sys.path.append(pyimagej_DIR)\n",
    "\n",
    "# Add TrabeculaeTools\n",
    "sys.path.append(TrabeculaeTools_DIR)"
   ]
  },
  {
   "cell_type": "code",
   "execution_count": 47,
   "metadata": {
    "collapsed": false
   },
   "outputs": [],
   "source": [
    "# PythonTools imports\n",
    "from PythonTools.helpers.elastix import elastix as elastixhelper\n",
    "from PythonTools import io, transformations\n",
    "\n",
    "# pyimagej imports\n",
    "from pyimagej.pyimagej import ImageJ, MacroImageJ\n",
    "\n",
    "# TrabeculaeTools imports\n",
    "from TrabeculaeTools.analysis import DownsampleImage, CreateRoIfileStudy, CreateRoI, CreateRoITransformed, PrintPercentage, SetImageOrigin, ResampleImage\n",
    "from TrabeculaeTools.analysis import SegmentTrabeculaeBoneJ, GetResultsFromSegmentation, GetResultsForComparison, LocalThresholding, SegmentTrabeculaeLocalThresholding "
   ]
  },
  {
   "cell_type": "markdown",
   "metadata": {},
   "source": [
    "## Parameters of study\n",
    "\n",
    "This will determine the complete analysis to be performed\n",
    "\n",
    "- RandomSeed select the random seed for the creation of RoIs and other random variables. If you leave does not change it, your results will be allways the same.\n",
    "\n",
    "- RoISizeVector is the vector of different sizes of RoI to be used\n",
    "\n",
    "- NRandomRoIs is the number of RoIs that will be extracted for each RoI Size"
   ]
  },
  {
   "cell_type": "code",
   "execution_count": 48,
   "metadata": {
    "collapsed": false
   },
   "outputs": [],
   "source": [
    "# To do it repetible\n",
    "RandomSeed = 5\n",
    "\n",
    "# Size of RoIs that will be studied in mm\n",
    "RoISizeVector = [4.0]# np.arange(2.2,5,0.2) # If you want to use only one size use this -> RoISizeVector = [4.4] for a RoI size of 4.4mm\n",
    "\n",
    "# Number of RoIs that will be generated for each RoI Size\n",
    "NRandomRoIs = 25\n",
    "\n",
    "# Path for analysis results, input images and outputs\n",
    "studyFolder ='J:\\\\Projects\\\\JHUTrabeculae\\\\Results\\\\uCTvsCBCT_LocalTh_Out'"
   ]
  },
  {
   "cell_type": "markdown",
   "metadata": {},
   "source": [
    "## Define the images for analysis and parameters for the study\n",
    "\n",
    "The following folder structure <font color='red'>must be stablished</font> before analysis. \n",
    "\n",
    "\n",
    "### Data Folder Structure\n",
    "- :open_file_folder: studyPath\n",
    "  - :file_folder: Originals\n",
    "    - :page_with_curl: CBCT.nii (Target image of CBCT)\n",
    "    - :page_with_curl: uCT.nii (Source image of uCT)\n",
    "    - :page_with_curl: CBCT_BoneMask.nii (Total Bone Segmentation of CBCT image)\n",
    "  - :file_folder: Registration\n",
    "    - :page_with_curl: RegistrationParams.txt (elastix parameters for registration)\n",
    "\n"
   ]
  },
  {
   "cell_type": "code",
   "execution_count": 49,
   "metadata": {
    "collapsed": true
   },
   "outputs": [],
   "source": [
    "# Starting Folders\n",
    "originalsFolder = os.path.join(studyFolder,'Originals') \n",
    "registrationFolder = os.path.join(studyFolder,'Registration')\n",
    "\n",
    "# Original Images for analysis\n",
    "CBCTimagePath = os.path.join(originalsFolder,'CBCT.nii')\n",
    "uCTimagePath  = os.path.join(originalsFolder,'uCT.nii')\n",
    "\n",
    "# Total Bone of CBCT image\n",
    "BoneCBCTimagePath = os.path.join(originalsFolder,'CBCT_BoneMask.nii')\n",
    "\n",
    "# Folder For RoI results\n",
    "RoiFolder = os.path.join(studyFolder,'RoIFiles')"
   ]
  },
  {
   "cell_type": "markdown",
   "metadata": {},
   "source": [
    "# 1. Preregistration\n",
    "\n",
    "In order to help registration performance, we first semi align the images using Slicer. The transformation will be saved as a *.tmf file into Registration folder using the name \"InitialTransform.tfm\""
   ]
  },
  {
   "cell_type": "code",
   "execution_count": 9,
   "metadata": {
    "collapsed": false
   },
   "outputs": [],
   "source": [
    "# Perform the initial registration for image uCT\n",
    "InitialTransform = os.path.join(registrationFolder,'InitialTransform.tfm')"
   ]
  },
  {
   "cell_type": "markdown",
   "metadata": {},
   "source": [
    "# 2. Perform Registration\n",
    "\n",
    "Usually, uCT image is quite big and memory cannot handle it. To facilitate the registration process, we create a downsampled version of uCT. This image will be registered to the actual CBCT image and registration parameters will be saved for further use."
   ]
  },
  {
   "cell_type": "code",
   "execution_count": 10,
   "metadata": {
    "collapsed": false
   },
   "outputs": [],
   "source": [
    "registrationParametersPath = os.path.join(registrationFolder,'Registrationparams.txt')"
   ]
  },
  {
   "cell_type": "markdown",
   "metadata": {},
   "source": [
    "   ## 2.1 Downsampling"
   ]
  },
  {
   "cell_type": "code",
   "execution_count": null,
   "metadata": {
    "collapsed": false
   },
   "outputs": [],
   "source": [
    "DownsamplingFactor = 3\n",
    "DownsampleduCTimagePath = os.path.join(registrationFolder,'uCTDownsampled.nii')\n",
    "\n",
    "# This uses Linear Interpolation. BsplineInterpolator cannot handle the resampling.\n",
    "DownsampleImage(uCTimagePath,DownsampleduCTimagePath,DownsamplingFactor)"
   ]
  },
  {
   "cell_type": "markdown",
   "metadata": {},
   "source": [
    " ## 2.2 Registration"
   ]
  },
  {
   "cell_type": "code",
   "execution_count": null,
   "metadata": {
    "collapsed": false
   },
   "outputs": [],
   "source": [
    "# Transform Initial Transform to elastix format\n",
    "InitialTransformElastix = os.path.join(registrationFolder,'InitialTransform.txt')\n",
    "elastixhelper(elastix_EXE).itk2elastix(InitialTransform,InitialTransformElastix)\n",
    "\n",
    "# Create Command line Registration\n",
    "cmdString = elastix_EXE + \\\n",
    "            ' -f ' + CBCTimagePath + \\\n",
    "            ' -m ' + DownsampleduCTimagePath + \\\n",
    "            ' -p ' + registrationParametersPath + \\\n",
    "            ' -t0 ' + InitialTransformElastix + \\\n",
    "            ' -out '+ registrationFolder + \\\n",
    "            ' -threads 4'\n",
    "            \n",
    "# Launch Registration\n",
    "os.system(\"start /wait cmd /c \" + cmdString)"
   ]
  },
  {
   "cell_type": "code",
   "execution_count": 50,
   "metadata": {
    "collapsed": false
   },
   "outputs": [],
   "source": [
    "# Join Transformation and create final transformation\n",
    "RegistrationTransformElastix = os.path.join(registrationFolder,'TransformParameters.0.txt')\n",
    "\n",
    "RegistrationTransform = os.path.join(registrationFolder,'TransformParameters.tfm')\n",
    "elastixhelper(elastix_EXE).elastix2itk(RegistrationTransformElastix,RegistrationTransform)\n",
    "\n",
    "# Compose Initial and Registration transformation\n",
    "RegistrationTransformFinal = os.path.join(registrationFolder,'RegistrationTransformFinal.tfm')\n",
    "\n",
    "Tinitial = io.load_tfm(InitialTransform)\n",
    "TReg = io.load_tfm(RegistrationTransform)\n",
    "TRegistrationComplete = transformations.concatenate_matrices(TReg, Tinitial)\n",
    "\n",
    "# Save the resulting transformation into file\n",
    "io.save_tfm(RegistrationTransformFinal,TRegistrationComplete)"
   ]
  },
  {
   "cell_type": "markdown",
   "metadata": {},
   "source": [
    "# 3. Generate RoI file for analysis\n",
    "\n",
    "This file contains the RoI definition that will be analyzed for both images."
   ]
  },
  {
   "cell_type": "code",
   "execution_count": 19,
   "metadata": {
    "collapsed": false
   },
   "outputs": [
    {
     "name": "stdout",
     "output_type": "stream",
     "text": [
      "Creating RoI File: [100.00%]--[||||||||||||||||||||]-- Expected end in [0:00:00] Finished!"
     ]
    }
   ],
   "source": [
    "# Folder for RoI file save\n",
    "CreateRoIfileStudy(BoneCBCTimagePath, RoiFolder, RoISizeVector, NRandomRoIs, RandomSeed, PrintDebug = False)"
   ]
  },
  {
   "cell_type": "markdown",
   "metadata": {},
   "source": [
    "# 4. Segmentation, Metric Analysis and Save Results"
   ]
  },
  {
   "cell_type": "code",
   "execution_count": 53,
   "metadata": {
    "collapsed": false
   },
   "outputs": [
    {
     "name": "stdout",
     "output_type": "stream",
     "text": [
      "Extracting RoI from uCT                              [0.00%]--[                    ]-- Expected end in [-24 days, 20:26:40][.2f s]    - Extracting RoI with parameters: \n",
      "File           J:\\Projects\\JHUTrabeculae\\Results\\uCTvsCBCT_Lo...\n",
      "RoI Number                                                     0\n",
      "RoI Size mm                                                    4\n",
      "Center x mm                                                7.575\n",
      "Center y mm                                                 8.85\n",
      "Center z mm                                                8.475\n",
      "Name: 1, dtype: object\n",
      "[.2f s]    - Reading Image\n",
      "[.2f s]    - Transforming RoI center to moving space\n",
      "[.2f s]    - RoI starts at  [571, 1030, 435]\n",
      "[.2f s]    - RoI size       [404, 404, 404]\n",
      "[.2f s]    - Extracting RoI in Moving Space\n",
      "[.2f s]    - Transforming RoI to Target space\n",
      "[.2f s]    - Resampling...\n",
      "[.2f s]    - ...\n",
      "[.2f s]    - Saving RoI file to \n",
      "[.2f s]    - J:\\Projects\\JHUTrabeculae\\Results\\uCTvsCBCT_LocalTh_Out\\RoIFiles\\uCT_4.00mm_RoI0.nii\n",
      "[.2f s]    - Finished\n"
     ]
    },
    {
     "ename": "NotImplementedError",
     "evalue": "Wrong number or type of arguments for overloaded function 'Resample'.\n  Possible C/C++ prototypes are:\n    itk::simple::Resample(itk::simple::Image const &,itk::simple::Transform,itk::simple::InterpolatorEnum,double,itk::simple::PixelIDValueEnum)\n    itk::simple::Resample(itk::simple::Image const &,itk::simple::Image const &,itk::simple::Transform,itk::simple::InterpolatorEnum,double,itk::simple::PixelIDValueEnum)\n    itk::simple::Resample(itk::simple::Image const &,std::vector< uint32_t,std::allocator< uint32_t > >,itk::simple::Transform,itk::simple::InterpolatorEnum,std::vector< double,std::allocator< double > >,std::vector< double,std::allocator< double > >,std::vector< double,std::allocator< double > >,double,itk::simple::PixelIDValueEnum)\n",
     "output_type": "error",
     "traceback": [
      "\u001b[1;31m---------------------------------------------------------------------------\u001b[0m",
      "\u001b[1;31mNotImplementedError\u001b[0m                       Traceback (most recent call last)",
      "\u001b[1;32m<ipython-input-53-49965517a9dd>\u001b[0m in \u001b[0;36m<module>\u001b[1;34m()\u001b[0m\n\u001b[0;32m     47\u001b[0m \u001b[1;33m\u001b[0m\u001b[0m\n\u001b[0;32m     48\u001b[0m \u001b[1;33m\u001b[0m\u001b[0m\n\u001b[1;32m---> 49\u001b[1;33m     \u001b[0muCTimageCBCTVoxelSize\u001b[0m \u001b[1;33m=\u001b[0m \u001b[0mResampleImage\u001b[0m\u001b[1;33m(\u001b[0m\u001b[0mRoIFilePathuCT\u001b[0m\u001b[1;33m,\u001b[0m\u001b[0mRoIFilePathCBCT\u001b[0m\u001b[1;33m)\u001b[0m\u001b[1;33m\u001b[0m\u001b[0m\n\u001b[0m\u001b[0;32m     50\u001b[0m     \u001b[0msitk\u001b[0m\u001b[1;33m.\u001b[0m\u001b[0mWriteImage\u001b[0m\u001b[1;33m(\u001b[0m\u001b[0muCTimageCBCTVoxelSize\u001b[0m\u001b[1;33m,\u001b[0m\u001b[0mRoIFilePathuCT_Resampled\u001b[0m\u001b[1;33m)\u001b[0m\u001b[1;33m\u001b[0m\u001b[0m\n\u001b[0;32m     51\u001b[0m \u001b[1;33m\u001b[0m\u001b[0m\n",
      "\u001b[1;32mJ:\\Projects\\JHUTrabeculae\\Software\\Python\\TrabeculaeTools\\TrabeculaeTools\\analysis.py\u001b[0m in \u001b[0;36mResampleImage\u001b[1;34m(targetImage, sourceImage)\u001b[0m\n\u001b[0;32m    999\u001b[0m     sourceImage = sitk.Resample(sourceImage , targetImage,sitk.Transform(), sitk.sitkBSpline, targetImage.GetOrigin(),\n\u001b[0;32m   1000\u001b[0m                                   \u001b[0mtargetImage\u001b[0m\u001b[1;33m.\u001b[0m\u001b[0mGetSpacing\u001b[0m\u001b[1;33m(\u001b[0m\u001b[1;33m)\u001b[0m\u001b[1;33m,\u001b[0m \u001b[0mtargetImage\u001b[0m\u001b[1;33m.\u001b[0m\u001b[0mGetDirection\u001b[0m\u001b[1;33m(\u001b[0m\u001b[1;33m)\u001b[0m\u001b[1;33m,\u001b[0m \u001b[1;36m0.0\u001b[0m\u001b[1;33m,\u001b[0m\u001b[1;33m\u001b[0m\u001b[0m\n\u001b[1;32m-> 1001\u001b[1;33m                                   targetImage.GetPixelIDValue())\n\u001b[0m\u001b[0;32m   1002\u001b[0m     \u001b[1;32mreturn\u001b[0m \u001b[0msourceImage\u001b[0m\u001b[1;33m\u001b[0m\u001b[0m\n\u001b[0;32m   1003\u001b[0m \u001b[1;33m\u001b[0m\u001b[0m\n",
      "\u001b[1;32mc:\\anaconda\\lib\\site-packages\\simpleitk-0.9.1-py2.7-win-amd64.egg\\SimpleITK\\SimpleITK.pyc\u001b[0m in \u001b[0;36mResample\u001b[1;34m(*args)\u001b[0m\n\u001b[0;32m   8367\u001b[0m     \u001b[0mResample\u001b[0m\u001b[1;33m(\u001b[0m\u001b[0mImage\u001b[0m \u001b[0mimage1\u001b[0m\u001b[1;33m,\u001b[0m \u001b[0mVectorUInt32\u001b[0m \u001b[0msize\u001b[0m\u001b[1;33m,\u001b[0m \u001b[0mTransform\u001b[0m \u001b[0mtransform\u001b[0m\u001b[1;33m,\u001b[0m \u001b[0mitk\u001b[0m\u001b[1;33m:\u001b[0m\u001b[1;33m:\u001b[0m\u001b[0msimple\u001b[0m\u001b[1;33m:\u001b[0m\u001b[1;33m:\u001b[0m\u001b[0mInterpolatorEnum\u001b[0m \u001b[0minterpolator\u001b[0m\u001b[1;33m,\u001b[0m \u001b[0mVectorDouble\u001b[0m \u001b[0moutputOrigin\u001b[0m\u001b[1;33m,\u001b[0m \u001b[0mVectorDouble\u001b[0m \u001b[0moutputSpacing\u001b[0m\u001b[1;33m,\u001b[0m \u001b[0mVectorDouble\u001b[0m \u001b[0moutputDirection\u001b[0m\u001b[1;33m,\u001b[0m \u001b[0mdouble\u001b[0m \u001b[0mdefaultPixelValue\u001b[0m\u001b[1;33m=\u001b[0m\u001b[1;36m0.0\u001b[0m\u001b[1;33m,\u001b[0m \u001b[0mitk\u001b[0m\u001b[1;33m:\u001b[0m\u001b[1;33m:\u001b[0m\u001b[0msimple\u001b[0m\u001b[1;33m:\u001b[0m\u001b[1;33m:\u001b[0m\u001b[0mPixelIDValueEnum\u001b[0m \u001b[0moutputPixelType\u001b[0m\u001b[1;33m)\u001b[0m \u001b[1;33m-\u001b[0m\u001b[1;33m>\u001b[0m \u001b[0mImage\u001b[0m\u001b[1;33m\u001b[0m\u001b[0m\n\u001b[0;32m   8368\u001b[0m     \"\"\"\n\u001b[1;32m-> 8369\u001b[1;33m     \u001b[1;32mreturn\u001b[0m \u001b[0m_SimpleITK\u001b[0m\u001b[1;33m.\u001b[0m\u001b[0mResample\u001b[0m\u001b[1;33m(\u001b[0m\u001b[1;33m*\u001b[0m\u001b[0margs\u001b[0m\u001b[1;33m)\u001b[0m\u001b[1;33m\u001b[0m\u001b[0m\n\u001b[0m\u001b[0;32m   8370\u001b[0m \u001b[1;33m\u001b[0m\u001b[0m\n\u001b[0;32m   8371\u001b[0m \u001b[1;32mdef\u001b[0m \u001b[0mPatchBasedDenoising\u001b[0m\u001b[1;33m(\u001b[0m\u001b[1;33m*\u001b[0m\u001b[0margs\u001b[0m\u001b[1;33m)\u001b[0m\u001b[1;33m:\u001b[0m\u001b[1;33m\u001b[0m\u001b[0m\n",
      "\u001b[1;31mNotImplementedError\u001b[0m: Wrong number or type of arguments for overloaded function 'Resample'.\n  Possible C/C++ prototypes are:\n    itk::simple::Resample(itk::simple::Image const &,itk::simple::Transform,itk::simple::InterpolatorEnum,double,itk::simple::PixelIDValueEnum)\n    itk::simple::Resample(itk::simple::Image const &,itk::simple::Image const &,itk::simple::Transform,itk::simple::InterpolatorEnum,double,itk::simple::PixelIDValueEnum)\n    itk::simple::Resample(itk::simple::Image const &,std::vector< uint32_t,std::allocator< uint32_t > >,itk::simple::Transform,itk::simple::InterpolatorEnum,std::vector< double,std::allocator< double > >,std::vector< double,std::allocator< double > >,std::vector< double,std::allocator< double > >,double,itk::simple::PixelIDValueEnum)\n"
     ]
    }
   ],
   "source": [
    "#########################\n",
    "# Path To RoI\n",
    "RegistrationTransformFinal = os.path.join(registrationFolder,'RegistrationTransformFinal.tfm')\n",
    "PathToRoIfile = os.path.join(RoiFolder,'RoIFileComplete.csv')\n",
    "\n",
    "# Read RoI definitions\n",
    "RoIStructure = pd.read_csv(PathToRoIfile,index_col=0)\n",
    "NumberOfRoIs = len(RoIStructure.index)\n",
    "\n",
    "# Folder for results\n",
    "ResultsDir = os.path.join(studyFolder,'Results')\n",
    "if not os.path.exists(ResultsDir):\n",
    "    os.makedirs(ResultsDir)\n",
    "\n",
    "# Temporal folder for results\n",
    "MetricsOutputDir = os.path.join(studyFolder,'MetricOutputTemp')\n",
    "if not os.path.exists(MetricsOutputDir):\n",
    "    os.makedirs(MetricsOutputDir)\n",
    "\n",
    "percentage = 0\n",
    "for i in range(NumberOfRoIs):\n",
    "    RoIDefinition = RoIStructure.iloc[i]\n",
    "    \n",
    "    #####\n",
    "    ##### ROI Extraction\n",
    "    #####\n",
    "    \n",
    "    # Extract RoI from CBCT\n",
    "    PrintPercentage(percentage, preMessage = 'Extracting RoI from CBCT                             ')\n",
    "\n",
    "    RoIFilePathCBCT = os.path.join(RoiFolder,CBCTimagePath.split('\\\\')[-1][:-4] + '_{1:.2f}mm_RoI{0:d}.nii'.format(RoIDefinition['RoI Number'],RoIDefinition['RoI Size mm']))\n",
    "    \n",
    "    CreateRoI(  ImageFilePath = CBCTimagePath,\\\n",
    "                RoIDefinition = RoIDefinition,\\\n",
    "                RoIFilePath = RoIFilePathCBCT)\n",
    "\n",
    "    # Extract RoI from uCT\n",
    "    PrintPercentage(percentage, preMessage = 'Extracting RoI from uCT                              ')\n",
    "    \n",
    "    RoIFilePathuCT = os.path.join(RoiFolder,uCTimagePath.split('\\\\')[-1][:-4] + '_{1:.2f}mm_RoI{0:d}.nii'.format(RoIDefinition['RoI Number'],RoIDefinition['RoI Size mm']))\n",
    "\n",
    "    CreateRoITransformed(ImageFilePath = uCTimagePath,\\\n",
    "                         RoIDefinition = RoIDefinition,\\\n",
    "                         TransformationFile = RegistrationTransformFinal,\\\n",
    "                         ReferenceRoIImageFilePath = RoIFilePathCBCT,\\\n",
    "                         RoIFilePath = RoIFilePathuCT)\n",
    "    \n",
    "    \n",
    "    #####\n",
    "    ##### Create RoI file with CBCT voxel size\n",
    "    #####\n",
    "    RoIFilePathuCT_Resampled = os.path.join(RoiFolder,uCTimagePath.split('\\\\')[-1][:-4] + 'Resampled_{1:.2f}mm_RoI{0:d}.nii'.format(RoIDefinition['RoI Number'],RoIDefinition['RoI Size mm']))\n",
    "    uCTimageCBCTVoxelSize = ResampleImage(RoIFilePathCBCT,RoIFilePathuCT)\n",
    "    sitk.WriteImage(uCTimageCBCTVoxelSize,RoIFilePathuCT_Resampled)\n",
    "    \n",
    "    \n",
    "    print RoIFilePathuCT\n",
    "    print RoIFilePathCBCT\n",
    "    print RoIFilePathuCT_Resampled\n",
    "    \n",
    "    \n",
    "    #####\n",
    "    ##### ROI Segmentation\n",
    "    #####\n",
    "    \n",
    "    \n",
    "    # Segmentation for CBCT\n",
    "    PrintPercentage(percentage, preMessage = 'Segmenting CBCT Using BoneJ                          ')\n",
    "    \n",
    "    RoIFilePathCBCTSegmented = os.path.join(RoiFolder,CBCTimagePath.split('\\\\')[-1][:-4] + '_{1:.2f}mm_RoI{0:d}_SegmentedBoneJ.nii'.format(RoIDefinition['RoI Number'],RoIDefinition['RoI Size mm']))\n",
    "\n",
    "    CBCTdataSegmentation = SegmentTrabeculaeBoneJ(  ImageJ_EXE, Segmentmacro_IJM, SegmentfileDescription_XML, \n",
    "                                                    defaultTimeout = 700,\\\n",
    "                                                    PathToRoIfile = RoIFilePathCBCT,\\\n",
    "                                                    PathToSegmentedRoIfile = RoIFilePathCBCTSegmented,\\\n",
    "                                                    SMOOTH_Sigma = 0.03,\\\n",
    "                                                    TH_Erosion = 0,\\\n",
    "                                                    TH_Dilation = 0)\n",
    "    \n",
    "    SetImageOrigin(RoIFilePathCBCT,RoIFilePathCBCTSegmented)\n",
    "\n",
    "    \n",
    "    # Segmentation using Local Thresholding\n",
    "    RoIFilePathCBCTSegmented_LocalThresholding = os.path.join(RoiFolder,CBCTimagePath.split('\\\\')[-1][:-4] + '_{1:.2f}mm_RoI{0:d}_SegmentedLocal.nii'.format(RoIDefinition['RoI Number'],RoIDefinition['RoI Size mm']))\n",
    "\n",
    "    CBCTdataSegmentation_LocalThresholding = SegmentTrabeculaeLocalThresholding(RoIFilePathCBCT,RoIFilePathCBCTSegmented_LocalThresholding,\\\n",
    "                                      GaussRadius = 0.21,\\\n",
    "                                       GradCutOffLow = 0.965,\\\n",
    "                                       GradCutOffHigh = 0.998,\\\n",
    "                                       BackGroundValue = 0.02)\n",
    "    \n",
    "    # Segmentation for uCT\n",
    "    PrintPercentage(percentage, preMessage = 'Segmenting uCT Using BoneJ                           ')\n",
    "    \n",
    "    RoIFilePathuCTSegmented = os.path.join(RoiFolder,uCTimagePath.split('\\\\')[-1][:-4] + '_{1:.2f}mm_RoI{0:d}_SegmentedBoneJ.nii'.format(RoIDefinition['RoI Number'],RoIDefinition['RoI Size mm']))\n",
    "\n",
    "    uCTdataSegmentation = SegmentTrabeculaeBoneJ(   ImageJ_EXE, Segmentmacro_IJM, SegmentfileDescription_XML, \n",
    "                                                    defaultTimeout = 700,\\\n",
    "                                                    PathToRoIfile = RoIFilePathuCT,\\\n",
    "                                                    PathToSegmentedRoIfile = RoIFilePathuCTSegmented,\\\n",
    "                                                    SMOOTH_Sigma = 0.03,\\\n",
    "                                                    TH_Erosion = 0,\\\n",
    "                                                    TH_Dilation = 0)\n",
    "    SetImageOrigin(RoIFilePathuCT,RoIFilePathuCTSegmented)\n",
    "    \n",
    "    \n",
    "    # Segmentation for uCT Resampled \n",
    "    PrintPercentage(percentage, preMessage = 'Segmenting uCT Using BoneJ                           ')\n",
    "    \n",
    "    RoIFilePathuCTSegmented_Resampled = os.path.join(RoiFolder,uCTimagePath.split('\\\\')[-1][:-4] + 'Resampled_{1:.2f}mm_RoI{0:d}_SegmentedBoneJ.nii'.format(RoIDefinition['RoI Number'],RoIDefinition['RoI Size mm']))\n",
    "    \n",
    "    uCTdataSegmentation_Resampled = SegmentTrabeculaeBoneJ(   ImageJ_EXE, Segmentmacro_IJM, SegmentfileDescription_XML, \n",
    "                                                    defaultTimeout = 700,\\\n",
    "                                                    PathToRoIfile = RoIFilePathuCT_Resampled,\\\n",
    "                                                    PathToSegmentedRoIfile = RoIFilePathuCTSegmented_Resampled,\\\n",
    "                                                    SMOOTH_Sigma = 0.03,\\\n",
    "                                                    TH_Erosion = 0,\\\n",
    "                                                    TH_Dilation = 0)\n",
    "    SetImageOrigin(RoIFilePathuCT_Resampled,RoIFilePathuCTSegmented_Resampled)\n",
    "    \n",
    "    \n",
    "    #####\n",
    "    ##### ROI ANALYSIS\n",
    "    #####\n",
    "    \n",
    "    \n",
    "    \n",
    "    BoneJMetrics = MacroImageJ(imagejPath = ImageJ_EXE,\\\n",
    "                               macroPath = Metricmacro_IJM,\\\n",
    "                               xmlDefinition = MetricfileDescription_XML,\\\n",
    "                               defaultTimeout = 700)\n",
    "    \n",
    "    ANISOTROPY_Radius = 0.9 * RoIDefinition['RoI Size mm']/2.0\n",
    "    #try:\n",
    "    # Analysis for CBCT\n",
    "    PrintPercentage(percentage, preMessage = 'Calculating Metrics for CBCT Segmented with BoneJ    ')\n",
    "\n",
    "    params = BoneJMetrics.runMacro( inputImage = RoIFilePathCBCTSegmented,\\\n",
    "                                    outputDir = MetricsOutputDir,\\\n",
    "                                    ANISOTROPY_Radius = ANISOTROPY_Radius)\n",
    "    CBCTdataMetricsParameters = pd.DataFrame([params], index = [0])\n",
    "    CBCTDataResults = GetResultsFromSegmentation(CBCTdataSegmentation, CBCTdataMetricsParameters)\n",
    "\n",
    "    # Analysis for CBCT Local Thresholding\n",
    "    PrintPercentage(percentage, preMessage = 'Calculating Metrics for CBCT Segmented with BoneJ    ')\n",
    "\n",
    "    params = BoneJMetrics.runMacro( inputImage = RoIFilePathCBCTSegmented_LocalThresholding,\\\n",
    "                                    outputDir = MetricsOutputDir,\\\n",
    "                                    ANISOTROPY_Radius = ANISOTROPY_Radius)\n",
    "    CBCTdataMetricsParameters_LocalThresholding = pd.DataFrame([params], index = [0])\n",
    "    CBCTDataResults_LocalThresholding = GetResultsFromSegmentation(CBCTdataSegmentation_LocalThresholding, CBCTdataMetricsParameters_LocalThresholding)\n",
    "\n",
    "\n",
    "    # Analysis for uCT\n",
    "    PrintPercentage(percentage, preMessage = 'Calculating Metrics for uCT Segmented with BoneJ     ')\n",
    "\n",
    "    params = BoneJMetrics.runMacro( inputImage = RoIFilePathuCTSegmented,\\\n",
    "                                    outputDir = MetricsOutputDir,\\\n",
    "                                    ANISOTROPY_Radius = ANISOTROPY_Radius)\n",
    "    uCTdataMetricsParameters = pd.DataFrame([params], index = [0])\n",
    "    uCTDataResults = GetResultsFromSegmentation(uCTdataSegmentation, uCTdataMetricsParameters)\n",
    "    \n",
    "    # Analysis for uCT _Resampled\n",
    "    PrintPercentage(percentage, preMessage = 'Calculating Metrics for uCT Segmented with BoneJ     ')\n",
    "\n",
    "    params = BoneJMetrics.runMacro( inputImage = RoIFilePathuCTSegmented_Resampled,\\\n",
    "                                    outputDir = MetricsOutputDir,\\\n",
    "                                    ANISOTROPY_Radius = ANISOTROPY_Radius)\n",
    "    uCTdataMetricsParameters_Resampled = pd.DataFrame([params], index = [0])\n",
    "    uCTDataResults_Resampled = GetResultsFromSegmentation(uCTdataSegmentation_Resampled, uCTdataMetricsParameters_Resampled)\n",
    "    \n",
    "    #####\n",
    "    ##### ROI Comparison\n",
    "    #####\n",
    "    \n",
    "    PrintPercentage(percentage, preMessage = 'Generating Results for CBCT-uCT Segmented with BoneJ ')\n",
    "\n",
    "    FinalResults_uCTVSCBCT = GetResultsForComparison(uCTDataResults, CBCTDataResults,\\\n",
    "                                           RoISize = RoIDefinition['RoI Size mm'],\\\n",
    "                                           RoINumber = RoIDefinition['RoI Number'],\\\n",
    "                                           RoIX = RoIDefinition['Center x mm'],\\\n",
    "                                           RoIY = RoIDefinition['Center y mm'],\\\n",
    "                                           RoIZ = RoIDefinition['Center z mm'])\n",
    "    \n",
    "    FinalResults_uCTResampledVSCBCT = GetResultsForComparison(uCTDataResults_Resampled, CBCTDataResults,\\\n",
    "                                           RoISize = RoIDefinition['RoI Size mm'],\\\n",
    "                                           RoINumber = RoIDefinition['RoI Number'],\\\n",
    "                                           RoIX = RoIDefinition['Center x mm'],\\\n",
    "                                           RoIY = RoIDefinition['Center y mm'],\\\n",
    "                                           RoIZ = RoIDefinition['Center z mm'])\n",
    "\n",
    "\n",
    "    # Save results\n",
    "\n",
    "    FileResults = os.path.join(ResultsDir, CBCTimagePath.split('\\\\')[-1][:-4] + '_{1:.2f}mm_RoI{0:d}_Results_uCTVSCBCT.csv'.format(RoIDefinition['RoI Number'],RoIDefinition['RoI Size mm']))\n",
    "    FinalResults_uCTVSCBCT.to_csv(FileResults)\n",
    "    \n",
    "    FileResults = ResultsDir + '\\\\' + CBCTimagePath.split('\\\\')[-1][:-4] + '_{1:.2f}mm_RoI{0:d}_Results_uCTResampledVSCBCT.csv'.format(RoIDefinition['RoI Number'],RoIDefinition['RoI Size mm'])\n",
    "    FinalResults_uCTResampledVSCBCT.to_csv(FileResults)\n",
    "    \n",
    "    #except:\n",
    "    #    pass\n",
    "    \n",
    "    PrintPercentage(percentage, preMessage = 'Finished one RoI from file                           ')\n",
    "    percentage = 100.0 * float(i) / (NumberOfRoIs)\n",
    "    PrintPercentage(percentage, preMessage = 'Complete Analysis ')\n",
    "\n",
    "\n"
   ]
  },
  {
   "cell_type": "code",
   "execution_count": 56,
   "metadata": {
    "collapsed": false
   },
   "outputs": [],
   "source": [
    "\n",
    "sitk.WriteImage(uCTimageCBCTVoxelSize,RoIFilePathuCT_Resampled)"
   ]
  },
  {
   "cell_type": "code",
   "execution_count": 36,
   "metadata": {
    "collapsed": false
   },
   "outputs": [],
   "source": []
  },
  {
   "cell_type": "code",
   "execution_count": 42,
   "metadata": {
    "collapsed": false
   },
   "outputs": [
    {
     "data": {
      "text/html": [
       "<div>\n",
       "<table border=\"1\" class=\"dataframe\">\n",
       "  <thead>\n",
       "    <tr style=\"text-align: right;\">\n",
       "      <th></th>\n",
       "      <th>ANISOTROPY_MaxSpheres</th>\n",
       "      <th>ANISOTROPY_MinSpheres</th>\n",
       "      <th>ANISOTROPY_Radius</th>\n",
       "      <th>ANISOTROPY_Tol</th>\n",
       "      <th>ANISOTROPY_VectorSampling</th>\n",
       "      <th>ANISOTROPY_Vectors</th>\n",
       "      <th>SMI_MeshSmoothing</th>\n",
       "      <th>SMI_VoxelResampling</th>\n",
       "      <th>VF_SurfaceResampling</th>\n",
       "      <th>inputImage</th>\n",
       "      <th>outputDir</th>\n",
       "    </tr>\n",
       "  </thead>\n",
       "  <tbody>\n",
       "    <tr>\n",
       "      <th>0</th>\n",
       "      <td>2000</td>\n",
       "      <td>100</td>\n",
       "      <td>1.8</td>\n",
       "      <td>0.001</td>\n",
       "      <td>2.3</td>\n",
       "      <td>50000</td>\n",
       "      <td>0.5</td>\n",
       "      <td>6</td>\n",
       "      <td>6</td>\n",
       "      <td>J:\\Projects\\JHUTrabeculae\\Results\\uCTvsCBCT_Lo...</td>\n",
       "      <td>J:\\Projects\\JHUTrabeculae\\Results\\uCTvsCBCT_Lo...</td>\n",
       "    </tr>\n",
       "  </tbody>\n",
       "</table>\n",
       "</div>"
      ],
      "text/plain": [
       "   ANISOTROPY_MaxSpheres  ANISOTROPY_MinSpheres  ANISOTROPY_Radius  \\\n",
       "0                   2000                    100                1.8   \n",
       "\n",
       "   ANISOTROPY_Tol  ANISOTROPY_VectorSampling  ANISOTROPY_Vectors  \\\n",
       "0           0.001                        2.3               50000   \n",
       "\n",
       "   SMI_MeshSmoothing  SMI_VoxelResampling  VF_SurfaceResampling  \\\n",
       "0                0.5                    6                     6   \n",
       "\n",
       "                                          inputImage  \\\n",
       "0  J:\\Projects\\JHUTrabeculae\\Results\\uCTvsCBCT_Lo...   \n",
       "\n",
       "                                           outputDir  \n",
       "0  J:\\Projects\\JHUTrabeculae\\Results\\uCTvsCBCT_Lo...  "
      ]
     },
     "execution_count": 42,
     "metadata": {},
     "output_type": "execute_result"
    }
   ],
   "source": [
    "\n",
    "\n",
    "\n"
   ]
  },
  {
   "cell_type": "markdown",
   "metadata": {},
   "source": [
    "# 5. Read Results and Join under one matrix data\n",
    "\n",
    "Results generate a csv file for each RoI analysis. This will read all of them and join together under one matrix"
   ]
  },
  {
   "cell_type": "code",
   "execution_count": null,
   "metadata": {
    "collapsed": false
   },
   "outputs": [],
   "source": [
    "# Read all files and join\n",
    "datalist = list()\n",
    "for f in os.listdir(ResultsDir):\n",
    "    newData = pd.read_csv(os.path.join(ResultsDir,f),index_col = 0)\n",
    "    datalist.append(newData)\n",
    "\n",
    "datamatrix = datalist[0]\n",
    "for i in range(1,len(datalist)):\n",
    "    datamatrix = pd.concat([datamatrix, datalist[i]])\n",
    "    \n",
    "# Create folder for saving File and Graph\n",
    "graphResultFolder = os.path.join(studyFolder,'FinalResult_and_Graphs')\n",
    "if not os.path.exists(graphResultFolder):\n",
    "        os.makedirs(graphResultFolder)\n",
    "        \n",
    "# Save file\n",
    "datamatrix.to_csv(graphResultFolder + r'\\Data.csv')"
   ]
  },
  {
   "cell_type": "markdown",
   "metadata": {
    "collapsed": false
   },
   "source": [
    "# 6. Plot Results"
   ]
  },
  {
   "cell_type": "markdown",
   "metadata": {},
   "source": [
    "## 6.1 Print Results Comparison uCT Vs CBCT Relative Error"
   ]
  },
  {
   "cell_type": "markdown",
   "metadata": {},
   "source": [
    "## 6.2 Print Results uCT Vs distance metrics"
   ]
  },
  {
   "cell_type": "markdown",
   "metadata": {},
   "source": [
    "## 6.3 Print Results uCT Vs CBCT for Jaccard and Dice"
   ]
  },
  {
   "cell_type": "markdown",
   "metadata": {},
   "source": [
    "## 6.4 Print Results uCT Vs RoI localization"
   ]
  },
  {
   "cell_type": "markdown",
   "metadata": {},
   "source": [
    "## 6.5 Print Results uCT vs CBCT"
   ]
  }
 ],
 "metadata": {
  "kernelspec": {
   "display_name": "Python 2",
   "language": "python",
   "name": "python2"
  },
  "language_info": {
   "codemirror_mode": {
    "name": "ipython",
    "version": 2
   },
   "file_extension": ".py",
   "mimetype": "text/x-python",
   "name": "python",
   "nbconvert_exporter": "python",
   "pygments_lexer": "ipython2",
   "version": "2.7.11"
  }
 },
 "nbformat": 4,
 "nbformat_minor": 0
}
