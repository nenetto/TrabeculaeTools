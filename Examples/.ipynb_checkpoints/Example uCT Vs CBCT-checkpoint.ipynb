{
 "cells": [
  {
   "cell_type": "code",
   "execution_count": 1,
   "metadata": {
    "collapsed": false
   },
   "outputs": [],
   "source": [
    "%load_ext autoreload\n",
    "%autoreload 2\n",
    "%matplotlib inline"
   ]
  },
  {
   "cell_type": "markdown",
   "metadata": {},
   "source": [
    "## Example of comparative analysis for uCT and CBCT images\n",
    "\n",
    "This file perform the complete analysis for a uCT and a CBCT images. A selected number of random RoIs will be extracted from both images. Trabeculae will be segmented using the BoneJ segmentation algorithm that search for a global threshold over the RoI and maximizes the connectivity. Once RoIs are extracted, metrics using BoneJ will be extracted and saved into a CSV file for further analysis and comparison.\n",
    "\n",
    "### Preregistration\n",
    "\n",
    "If the images are not registered before analysis, they will be registered using elastix registration package. Due to the big size of the uCT image, a subsampled version of the uCT will be registered instead the original one because memory limitations in the computer.\n",
    "\n",
    "#### Initial Registration\n",
    "\n",
    "Currently, in order to speed up the registration performance and ensure a correct solution, a preregistration is performed using 3DSlicer following the next steps: \n",
    "\n",
    "1. Load uCT subsampled image \n",
    "2. Load CBCT image\n",
    "3. Create a transformation and apply to uCT (registration transforms uCT to the CBCT geometrical space)\n",
    "4. Play to align both images as much as you can\n",
    "5. Save the registration parameters as a *.tfm file into the corresponding folder\n",
    "\n",
    "### Image format\n",
    "\n",
    "All images will be saved and read as nifti format. For transforming your images you will find functions for MATLAB in the corresponding folder. Also, if you are using ImageJ, a plugin that deal with nifti is also available in the corresponding folder\n",
    "\n",
    "### \n"
   ]
  },
  {
   "cell_type": "markdown",
   "metadata": {},
   "source": [
    "### <font color='red'>Variables that need to be changed </font>\n",
    "\n",
    "- <font color='red'>Make sure that the BoneJ and NiftiIO plugins has been installed into imagej used version"
   ]
  },
  {
   "cell_type": "code",
   "execution_count": 2,
   "metadata": {
    "collapsed": false
   },
   "outputs": [],
   "source": [
    "import os\n",
    "# Python packages\n",
    "PythonTools_DIR = 'J:\\\\Projects\\\\JHUTrabeculae\\\\Software\\\\Python\\\\PythonTools'\n",
    "pyimagej_DIR = 'J:\\\\Projects\\\\JHUTrabeculae\\\\Software\\\\Python\\\\pyimagej'\n",
    "TrabeculaeTools_DIR = 'J:\\\\Projects\\\\JHUTrabeculae\\\\Software\\\\Python\\\\TrabeculaeTools'\n",
    "elastix_DIR = 'J:\\\\Projects\\\\JHUTrabeculae\\\\Software\\\\Programs\\\\elastix'\n",
    "ImageJ_DIR = 'J:\\\\Projects\\\\JHUTrabeculae\\\\Software\\\\Programs\\\\Fiji'\n",
    "Macros_DIR = 'J:\\\\Projects\\\\JHUTrabeculae\\\\Software\\\\Python\\\\TrabeculaeTools\\\\BoneJMacros'\n",
    "\n",
    "# Elastix registration\n",
    "elastix_EXE = os.path.join(elastix_DIR,'elastix.exe')\n",
    "\n",
    "# Path to imageJ (Need BoneJ and NII reader plugins)\n",
    "ImageJ_EXE = os.path.join(ImageJ_DIR,'ImageJ-win64.exe')\n",
    "\n",
    "# Macro definition for segmentation Trabeculae\n",
    "SegmentfileDescription_XML = os.path.join(Macros_DIR,'SegmentTrabeculaImageJMacro.xml')\n",
    "Segmentmacro_IJM = os.path.join(Macros_DIR,'SegmentTrabeculaImageJMacro.ijm')\n",
    "\n",
    "# Macro definition for Metric Trabeculae\n",
    "MetricfileDescription_XML= os.path.join(Macros_DIR,'BoneJMetricsImageJMacro.xml')\n",
    "Metricmacro_IJM = os.path.join(Macros_DIR,'BoneJMetricsImageJMacro.ijm')"
   ]
  },
  {
   "cell_type": "markdown",
   "metadata": {},
   "source": [
    "## Import need packages"
   ]
  },
  {
   "cell_type": "code",
   "execution_count": 3,
   "metadata": {
    "collapsed": false
   },
   "outputs": [],
   "source": [
    "import sys\n",
    "import pandas as pd\n",
    "import numpy as np\n",
    "import seaborn as sns\n",
    "import matplotlib.pylab as plt\n",
    "from mpl_toolkits.mplot3d import Axes3D\n",
    "\n",
    "# Add Python Tools to path\n",
    "sys.path.append(PythonTools_DIR)\n",
    "\n",
    "# Add pyimagej\n",
    "sys.path.append(pyimagej_DIR)\n",
    "\n",
    "# Add TrabeculaeTools\n",
    "sys.path.append(TrabeculaeTools_DIR)"
   ]
  },
  {
   "cell_type": "code",
   "execution_count": 15,
   "metadata": {
    "collapsed": false
   },
   "outputs": [],
   "source": [
    "# PythonTools imports\n",
    "from PythonTools.helpers.elastix import elastix as elastixhelper\n",
    "from PythonTools import io, transformations\n",
    "\n",
    "# pyimagej imports\n",
    "from pyimagej.pyimagej import ImageJ, MacroImageJ\n",
    "\n",
    "# TrabeculaeTools imports\n",
    "from TrabeculaeTools.analysis import DownsampleImage, CreateRoIfileStudy, CreateRoI, CreateRoITransformed, PrintPercentage\n",
    "from TrabeculaeTools.analysis import SegmentTrabeculaeBoneJ, GetResultsFromSegmentation, GetResultsForComparison"
   ]
  },
  {
   "cell_type": "markdown",
   "metadata": {},
   "source": [
    "## Parameters of study\n",
    "\n",
    "This will determine the complete analysis to be performed\n",
    "\n",
    "- RandomSeed select the random seed for the creation of RoIs and other random variables. If you leave does not change it, your results will be allways the same.\n",
    "\n",
    "- RoISizeVector is the vector of different sizes of RoI to be used\n",
    "\n",
    "- NRandomRoIs is the number of RoIs that will be extracted for each RoI Size"
   ]
  },
  {
   "cell_type": "code",
   "execution_count": 5,
   "metadata": {
    "collapsed": false
   },
   "outputs": [],
   "source": [
    "# To do it repetible\n",
    "RandomSeed = 2\n",
    "\n",
    "# Size of RoIs that will be studied in mm\n",
    "RoISizeVector = [2.5]# np.arange(2.2,5,0.2) # If you want to use only one size use this -> RoISizeVector = [4.4] for a RoI size of 4.4mm\n",
    "\n",
    "# Number of RoIs that will be generated for each RoI Size\n",
    "NRandomRoIs = 1\n",
    "\n",
    "# Path for analysis results, input images and outputs\n",
    "studyFolder ='J:\\\\Projects\\\\JHUTrabeculae\\\\Results\\\\uCTvsCBCT_example'"
   ]
  },
  {
   "cell_type": "markdown",
   "metadata": {},
   "source": [
    "## Define the images for analysis and parameters for the study\n",
    "\n",
    "The following folder structure <font color='red'>must be stablished</font> before analysis. \n",
    "\n",
    "\n",
    "### Data Folder Structure\n",
    "- :open_file_folder: studyPath\n",
    "  - :file_folder: Originals\n",
    "    - :page_with_curl: CBCT.nii (Target image of CBCT)\n",
    "    - :page_with_curl: uCT.nii (Source image of uCT)\n",
    "    - :page_with_curl: CBCT_BoneMask.nii (Total Bone Segmentation of CBCT image)\n",
    "  - :file_folder: Registration\n",
    "    - :page_with_curl: RegistrationParams.txt (elastix parameters for registration)\n",
    "\n"
   ]
  },
  {
   "cell_type": "code",
   "execution_count": 7,
   "metadata": {
    "collapsed": true
   },
   "outputs": [],
   "source": [
    "# Starting Folders\n",
    "originalsFolder = os.path.join(studyFolder,'Originals') \n",
    "registrationFolder = os.path.join(studyFolder,'Registration')\n",
    "\n",
    "# Original Images for analysis\n",
    "CBCTimagePath = os.path.join(originalsFolder,'CBCT.nii')\n",
    "uCTimagePath  = os.path.join(originalsFolder,'uCT.nii')\n",
    "\n",
    "# Total Bone of CBCT image\n",
    "BoneCBCTimagePath = os.path.join(originalsFolder,'CBCT_BoneMask.nii')\n",
    "\n",
    "# Folder For RoI results\n",
    "RoiFolder = os.path.join(studyFolder,'RoIFiles')"
   ]
  },
  {
   "cell_type": "markdown",
   "metadata": {},
   "source": [
    "# 1. Preregistration\n",
    "\n",
    "In order to help registration performance, we first semi align the images using Slicer. The transformation will be saved as a *.tmf file into Registration folder using the name \"InitialTransform.tfm\""
   ]
  },
  {
   "cell_type": "code",
   "execution_count": 7,
   "metadata": {
    "collapsed": false
   },
   "outputs": [],
   "source": [
    "# Perform the initial registration for image uCT\n",
    "InitialTransform = os.path.join(registrationFolder,'InitialTransform.tfm')"
   ]
  },
  {
   "cell_type": "markdown",
   "metadata": {},
   "source": [
    "# 2. Perform Registration\n",
    "\n",
    "Usually, uCT image is quite big and memory cannot handle it. To facilitate the registration process, we create a downsampled version of uCT. This image will be registered to the actual CBCT image and registration parameters will be saved for further use."
   ]
  },
  {
   "cell_type": "code",
   "execution_count": 8,
   "metadata": {
    "collapsed": false
   },
   "outputs": [],
   "source": [
    "registrationParametersPath = os.path.join(registrationFolder,'Registrationparams.txt')"
   ]
  },
  {
   "cell_type": "markdown",
   "metadata": {},
   "source": [
    "   ## 2.1 Downsampling"
   ]
  },
  {
   "cell_type": "code",
   "execution_count": 9,
   "metadata": {
    "collapsed": false
   },
   "outputs": [
    {
     "name": "stdout",
     "output_type": "stream",
     "text": [
      "[36.07 s]    - Downsampling...\n",
      "[71.36 s]    - Finished!\n"
     ]
    }
   ],
   "source": [
    "DownsamplingFactor = 3\n",
    "DownsampleduCTimagePath = os.path.join(registrationFolder,'uCTDownsampled.nii')\n",
    "\n",
    "# This uses Linear Interpolation. BsplineInterpolator cannot handle the resampling.\n",
    "DownsampleImage(uCTimagePath,DownsampleduCTimagePath,DownsamplingFactor)"
   ]
  },
  {
   "cell_type": "markdown",
   "metadata": {},
   "source": [
    " ## 2.2 Registration"
   ]
  },
  {
   "cell_type": "code",
   "execution_count": 10,
   "metadata": {
    "collapsed": false
   },
   "outputs": [
    {
     "data": {
      "text/plain": [
       "0"
      ]
     },
     "execution_count": 10,
     "metadata": {},
     "output_type": "execute_result"
    }
   ],
   "source": [
    "# Transform Initial Transform to elastix format\n",
    "InitialTransformElastix = os.path.join(registrationFolder,'InitialTransform.txt')\n",
    "elastixhelper(elastix_EXE).itk2elastix(InitialTransform,InitialTransformElastix)\n",
    "\n",
    "# Create Command line Registration\n",
    "cmdString = elastix_EXE + \\\n",
    "            ' -f ' + CBCTimagePath + \\\n",
    "            ' -m ' + DownsampleduCTimagePath + \\\n",
    "            ' -p ' + registrationParametersPath + \\\n",
    "            ' -t0 ' + InitialTransformElastix + \\\n",
    "            ' -out '+ registrationFolder + \\\n",
    "            ' -threads 4'\n",
    "            \n",
    "# Launch Registration\n",
    "os.system(\"start /wait cmd /c \" + cmdString)"
   ]
  },
  {
   "cell_type": "code",
   "execution_count": 9,
   "metadata": {
    "collapsed": false
   },
   "outputs": [
    {
     "ename": "NameError",
     "evalue": "name 'InitialTransform' is not defined",
     "output_type": "error",
     "traceback": [
      "\u001b[1;31m---------------------------------------------------------------------------\u001b[0m",
      "\u001b[1;31mNameError\u001b[0m                                 Traceback (most recent call last)",
      "\u001b[1;32m<ipython-input-9-c204f959363c>\u001b[0m in \u001b[0;36m<module>\u001b[1;34m()\u001b[0m\n\u001b[0;32m      8\u001b[0m \u001b[0mRegistrationTransformFinal\u001b[0m \u001b[1;33m=\u001b[0m \u001b[0mos\u001b[0m\u001b[1;33m.\u001b[0m\u001b[0mpath\u001b[0m\u001b[1;33m.\u001b[0m\u001b[0mjoin\u001b[0m\u001b[1;33m(\u001b[0m\u001b[0mregistrationFolder\u001b[0m\u001b[1;33m,\u001b[0m\u001b[1;34m'RegistrationTransformFinal.tfm'\u001b[0m\u001b[1;33m)\u001b[0m\u001b[1;33m\u001b[0m\u001b[0m\n\u001b[0;32m      9\u001b[0m \u001b[1;33m\u001b[0m\u001b[0m\n\u001b[1;32m---> 10\u001b[1;33m \u001b[0mTinitial\u001b[0m \u001b[1;33m=\u001b[0m \u001b[0mio\u001b[0m\u001b[1;33m.\u001b[0m\u001b[0mload_tfm\u001b[0m\u001b[1;33m(\u001b[0m\u001b[0mInitialTransform\u001b[0m\u001b[1;33m)\u001b[0m\u001b[1;33m\u001b[0m\u001b[0m\n\u001b[0m\u001b[0;32m     11\u001b[0m \u001b[0mTReg\u001b[0m \u001b[1;33m=\u001b[0m \u001b[0mio\u001b[0m\u001b[1;33m.\u001b[0m\u001b[0mload_tfm\u001b[0m\u001b[1;33m(\u001b[0m\u001b[0mRegistrationTransform\u001b[0m\u001b[1;33m)\u001b[0m\u001b[1;33m\u001b[0m\u001b[0m\n\u001b[0;32m     12\u001b[0m \u001b[0mTRegistrationComplete\u001b[0m \u001b[1;33m=\u001b[0m \u001b[0mtransformations\u001b[0m\u001b[1;33m.\u001b[0m\u001b[0mconcatenate_matrices\u001b[0m\u001b[1;33m(\u001b[0m\u001b[0mTReg\u001b[0m\u001b[1;33m,\u001b[0m \u001b[0mTinitial\u001b[0m\u001b[1;33m)\u001b[0m\u001b[1;33m\u001b[0m\u001b[0m\n",
      "\u001b[1;31mNameError\u001b[0m: name 'InitialTransform' is not defined"
     ]
    }
   ],
   "source": [
    "# Join Transformation and create final transformation\n",
    "RegistrationTransformElastix = os.path.join(registrationFolder,'TransformParameters.0.txt')\n",
    "\n",
    "RegistrationTransform = os.path.join(registrationFolder,'TransformParameters.tfm')\n",
    "elastixhelper(elastix_EXE).elastix2itk(RegistrationTransformElastix,RegistrationTransform)\n",
    "\n",
    "# Compose Initial and Registration transformation\n",
    "RegistrationTransformFinal = os.path.join(registrationFolder,'RegistrationTransformFinal.tfm')\n",
    "\n",
    "Tinitial = io.load_tfm(InitialTransform)\n",
    "TReg = io.load_tfm(RegistrationTransform)\n",
    "TRegistrationComplete = transformations.concatenate_matrices(TReg, Tinitial)\n",
    "\n",
    "# Save the resulting transformation into file\n",
    "io.save_tfm(RegistrationTransformFinal,TRegistrationComplete)"
   ]
  },
  {
   "cell_type": "markdown",
   "metadata": {},
   "source": [
    "# 3. Generate RoI file for analysis\n",
    "\n",
    "This file contains the RoI definition that will be analyzed for both images."
   ]
  },
  {
   "cell_type": "code",
   "execution_count": 12,
   "metadata": {
    "collapsed": false
   },
   "outputs": [
    {
     "name": "stdout",
     "output_type": "stream",
     "text": [
      "Creating RoI File: [16:39:35]--[||||||||||||||||||||] Finished!"
     ]
    }
   ],
   "source": [
    "# Folder for RoI file save\n",
    "CreateRoIfileStudy(BoneCBCTimagePath, RoiFolder, RoISizeVector, NRandomRoIs, RandomSeed, PrintDebug = False)"
   ]
  },
  {
   "cell_type": "markdown",
   "metadata": {},
   "source": [
    "# 4. Segmentation, Metric Analysis and Save Results"
   ]
  },
  {
   "cell_type": "code",
   "execution_count": 16,
   "metadata": {
    "collapsed": false
   },
   "outputs": [
    {
     "name": "stdout",
     "output_type": "stream",
     "text": [
      "Calculating Metrics for CBCT Segmented with BoneJ    [17:27:54]--[                    ]Finish!, total time:  0.04\n",
      "Calculating Metrics for uCT Segmented with BoneJ     [17:28:13]--[                    ]Finish!, total time:  0.04\n",
      "Calculating Metrics for CBCT Segmented with BoneJ    [17:32:03]--[                    ]Finish!, total time:  0.04\n",
      "Calculating Metrics for uCT Segmented with BoneJ     [17:33:13]--[                    ]Finish!, total time:  0.05\n",
      "Complete Analysis [17:35:12]--[||||||||||||||||||||] Finished!"
     ]
    }
   ],
   "source": [
    "#########################\n",
    "# Path To RoI\n",
    "RegistrationTransformFinal = os.path.join(registrationFolder,'RegistrationTransformFinal.tfm')\n",
    "PathToRoIfile = os.path.join(RoiFolder,'RoIFileComplete.csv')\n",
    "\n",
    "# Read RoI definitions\n",
    "RoIStructure = pd.read_csv(PathToRoIfile,index_col=0)\n",
    "NumberOfRoIs = len(RoIStructure.index)\n",
    "\n",
    "# Folder for results\n",
    "ResultsDir = os.path.join(studyFolder,'Results')\n",
    "if not os.path.exists(ResultsDir):\n",
    "    os.makedirs(ResultsDir)\n",
    "\n",
    "# Temporal folder for results\n",
    "MetricsOutputDir = os.path.join(studyFolder,'MetricOutputTemp')\n",
    "if not os.path.exists(MetricsOutputDir):\n",
    "    os.makedirs(MetricsOutputDir)\n",
    "\n",
    "percentage = 0\n",
    "for i in range(NumberOfRoIs):\n",
    "    RoIDefinition = RoIStructure.iloc[i]\n",
    "    \n",
    "    #####\n",
    "    ##### ROI Extraction\n",
    "    #####\n",
    "    \n",
    "    # Extract RoI from CBCT\n",
    "    PrintPercentage(percentage, preMessage = 'Extracting RoI from CBCT                             ')\n",
    "\n",
    "    RoIFilePathCBCT = os.path.join(RoiFolder,CBCTimagePath.split('\\\\')[-1][:-4] + '_{1:.2f}mm_RoI{0:d}.nii'.format(RoIDefinition['RoI Number'],RoIDefinition['RoI Size mm']))\n",
    "    \n",
    "    CreateRoI(  ImageFilePath = CBCTimagePath,\\\n",
    "                RoIDefinition = RoIDefinition,\\\n",
    "                RoIFilePath = RoIFilePathCBCT, \\\n",
    "                PrintDebug = False)\n",
    "\n",
    "    # Extract RoI from uCT\n",
    "    PrintPercentage(percentage, preMessage = 'Extracting RoI from uCT                              ')\n",
    "    \n",
    "    RoIFilePathuCT = os.path.join(RoiFolder,uCTimagePath.split('\\\\')[-1][:-4] + '_{1:.2f}mm_RoI{0:d}.nii'.format(RoIDefinition['RoI Number'],RoIDefinition['RoI Size mm']))\n",
    "\n",
    "    CreateRoITransformed(ImageFilePath = uCTimagePath,\\\n",
    "                         RoIDefinition = RoIDefinition,\\\n",
    "                         TransformationFile = RegistrationTransformFinal,\\\n",
    "                         ReferenceRoIImageFilePath = RoIFilePathCBCT,\\\n",
    "                         RoIFilePath = RoIFilePathuCT,\\\n",
    "                         PrintDebug = False)\n",
    "    \n",
    "    #####\n",
    "    ##### ROI Segmentation\n",
    "    #####\n",
    "    \n",
    "    \n",
    "    # Segmentation for CBCT\n",
    "    PrintPercentage(percentage, preMessage = 'Segmenting CBCT Using BoneJ                          ')\n",
    "    \n",
    "    RoIFilePathCBCTSegmented = os.path.join(RoiFolder,CBCTimagePath.split('\\\\')[-1][:-4] + '_{1:.2f}mm_RoI{0:d}_SegmentedBoneJ.nii'.format(RoIDefinition['RoI Number'],RoIDefinition['RoI Size mm']))\n",
    "\n",
    "    CBCTdataSegmentation = SegmentTrabeculaeBoneJ(  ImageJ_EXE, Segmentmacro_IJM, SegmentfileDescription_XML, \n",
    "                                                    defaultTimeout = 700,\\\n",
    "                                                    PathToRoIfile = RoIFilePathCBCT,\\\n",
    "                                                    PathToSegmentedRoIfile = RoIFilePathCBCTSegmented,\\\n",
    "                                                    SMOOTH_Sigma = 0.03,\\\n",
    "                                                    TH_Erosion = 0,\\\n",
    "                                                    TH_Dilation = 0)\n",
    "    \n",
    "    # Segmentation for CBCT\n",
    "    PrintPercentage(percentage, preMessage = 'Segmenting uCT Using BoneJ                           ')\n",
    "    \n",
    "    RoIFilePathuCTSegmented = os.path.join(RoiFolder,uCTimagePath.split('\\\\')[-1][:-4] + '_{1:.2f}mm_RoI{0:d}_SegmentedBoneJ.nii'.format(RoIDefinition['RoI Number'],RoIDefinition['RoI Size mm']))\n",
    "\n",
    "    uCTdataSegmentation = SegmentTrabeculaeBoneJ(   ImageJ_EXE, Segmentmacro_IJM, SegmentfileDescription_XML, \n",
    "                                                    defaultTimeout = 700,\\\n",
    "                                                    PathToRoIfile = RoIFilePathuCT,\\\n",
    "                                                    PathToSegmentedRoIfile = RoIFilePathuCTSegmented,\\\n",
    "                                                    SMOOTH_Sigma = 0.03,\\\n",
    "                                                    TH_Erosion = 0,\\\n",
    "                                                    TH_Dilation = 0)\n",
    "    \n",
    "    #####\n",
    "    ##### ROI ANALYSIS\n",
    "    #####\n",
    "    \n",
    "    \n",
    "    \n",
    "    BoneJMetrics = MacroImageJ(imagejPath = ImageJ_EXE,\\\n",
    "                               macroPath = Metricmacro_IJM,\\\n",
    "                               xmlDefinition = MetricfileDescription_XML,\\\n",
    "                               defaultTimeout = 700)\n",
    "    \n",
    "    ANISOTROPY_Radius = 0.9 * RoIDefinition['RoI Size mm']/2.0\n",
    "    #try:\n",
    "    # Analysis for CBCT\n",
    "    PrintPercentage(percentage, preMessage = 'Calculating Metrics for CBCT Segmented with BoneJ    ')\n",
    "\n",
    "    params = BoneJMetrics.runMacro( inputImage = RoIFilePathCBCTSegmented,\\\n",
    "                                    outputDir = MetricsOutputDir,\\\n",
    "                                    ANISOTROPY_Radius = ANISOTROPY_Radius)\n",
    "    CBCTdataMetricsParameters = pd.DataFrame([params], index = [0])\n",
    "    CBCTDataResults = GetResultsFromSegmentation(CBCTdataSegmentation, CBCTdataMetricsParameters)\n",
    "\n",
    "\n",
    "\n",
    "    # Analysis for uCT\n",
    "    PrintPercentage(percentage, preMessage = 'Calculating Metrics for uCT Segmented with BoneJ     ')\n",
    "\n",
    "    params = BoneJMetrics.runMacro( inputImage = RoIFilePathuCTSegmented,\\\n",
    "                                    outputDir = MetricsOutputDir,\\\n",
    "                                    ANISOTROPY_Radius = ANISOTROPY_Radius)\n",
    "    uCTdataMetricsParameters = pd.DataFrame([params], index = [0])\n",
    "    uCTDataResults = GetResultsFromSegmentation(uCTdataSegmentation, uCTdataMetricsParameters)\n",
    "    \n",
    "    #####\n",
    "    ##### ROI Comparison\n",
    "    #####\n",
    "    \n",
    "    PrintPercentage(percentage, preMessage = 'Generating Results for CBCT-uCT Segmented with BoneJ ')\n",
    "\n",
    "    FinalResults = GetResultsForComparison(uCTDataResults, CBCTDataResults,\\\n",
    "                                           RoISize = RoIDefinition['RoI Size mm'],\\\n",
    "                                           RoINumber = RoIDefinition['RoI Number'],\\\n",
    "                                           RoIX = RoIDefinition['Center x mm'],\\\n",
    "                                           RoIY = RoIDefinition['Center y mm'],\\\n",
    "                                           RoIZ = RoIDefinition['Center z mm'])\n",
    "\n",
    "\n",
    "    # Save results\n",
    "\n",
    "    FileResults = os.path.join(ResultsDir, CBCTimagePath.split('\\\\')[-1][:-4] + '_{1:.2f}mm_RoI{0:d}_Results.csv'.format(RoIDefinition['RoI Number'],RoIDefinition['RoI Size mm']))\n",
    "    FinalResults.to_csv(FileResults)\n",
    "    \n",
    "    #except:\n",
    "    #    pass\n",
    "    \n",
    "    PrintPercentage(percentage, preMessage = 'Finished one RoI from file                           ')\n",
    "    percentage = 100.0 * float(i) / (NumberOfRoIs-1)\n",
    "    PrintPercentage(percentage, preMessage = 'Complete Analysis ')\n",
    "\n",
    "\n"
   ]
  },
  {
   "cell_type": "markdown",
   "metadata": {},
   "source": [
    "# 5. Read Results and Join under one matrix data\n",
    "\n",
    "Results generate a csv file for each RoI analysis. This will read all of them and join together under one matrix"
   ]
  },
  {
   "cell_type": "code",
   "execution_count": 22,
   "metadata": {
    "collapsed": false
   },
   "outputs": [],
   "source": [
    "# Read all files and join\n",
    "datalist = list()\n",
    "for f in os.listdir(ResultsDir):\n",
    "    newData = pd.read_csv(os.path.join(ResultsDir,f),index_col = 0)\n",
    "    datalist.append(newData)\n",
    "\n",
    "datamatrix = datalist[0]\n",
    "for i in range(1,len(datalist)):\n",
    "    datamatrix = pd.concat([datamatrix, datalist[i]])\n",
    "    \n",
    "# Create folder for saving File and Graph\n",
    "graphResultFolder = os.path.join(studyFolder,'FinalResult_and_Graphs')\n",
    "if not os.path.exists(graphResultFolder):\n",
    "        os.makedirs(graphResultFolder)\n",
    "        \n",
    "# Save file\n",
    "datamatrix.to_csv(graphResultFolder + r'\\Data.csv')"
   ]
  },
  {
   "cell_type": "markdown",
   "metadata": {
    "collapsed": false
   },
   "source": [
    "# 6. Plot Results"
   ]
  },
  {
   "cell_type": "markdown",
   "metadata": {},
   "source": [
    "## 6.1 Print Results Comparison uCT Vs CBCT Relative Error"
   ]
  },
  {
   "cell_type": "markdown",
   "metadata": {},
   "source": [
    "## 6.2 Print Results uCT Vs distance metrics"
   ]
  },
  {
   "cell_type": "markdown",
   "metadata": {},
   "source": [
    "## 6.3 Print Results uCT Vs CBCT for Jaccard and Dice"
   ]
  },
  {
   "cell_type": "markdown",
   "metadata": {},
   "source": [
    "## 6.4 Print Results uCT Vs RoI localization"
   ]
  },
  {
   "cell_type": "markdown",
   "metadata": {},
   "source": [
    "## 6.5 Print Results uCT vs CBCT"
   ]
  }
 ],
 "metadata": {
  "kernelspec": {
   "display_name": "Python 2",
   "language": "python",
   "name": "python2"
  },
  "language_info": {
   "codemirror_mode": {
    "name": "ipython",
    "version": 2
   },
   "file_extension": ".py",
   "mimetype": "text/x-python",
   "name": "python",
   "nbconvert_exporter": "python",
   "pygments_lexer": "ipython2",
   "version": "2.7.10"
  }
 },
 "nbformat": 4,
 "nbformat_minor": 0
}
